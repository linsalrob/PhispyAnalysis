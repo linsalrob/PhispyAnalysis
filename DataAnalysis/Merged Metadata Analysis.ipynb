{
 "cells": [
  {
   "cell_type": "markdown",
   "id": "convertible-rover",
   "metadata": {},
   "source": [
    "# Merged Metadata Analysis\n",
    "\n",
    "In this analysis we are going to try and merge:\n",
    "- Prophage counts\n",
    "- GenBank data\n",
    "- RAST data\n",
    "- GTDB data\n",
    "- CheckV predictions\n",
    "\n",
    "So that we can filter by different things and identify interesting characters."
   ]
  }
 ],
 "metadata": {
  "kernelspec": {
   "display_name": "Python 3",
   "language": "python",
   "name": "python3"
  },
  "language_info": {
   "codemirror_mode": {
    "name": "ipython",
    "version": 3
   },
   "file_extension": ".py",
   "mimetype": "text/x-python",
   "name": "python",
   "nbconvert_exporter": "python",
   "pygments_lexer": "ipython3",
   "version": "3.8.8"
  }
 },
 "nbformat": 4,
 "nbformat_minor": 5
}
