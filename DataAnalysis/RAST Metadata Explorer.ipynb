{
 "cells": [
  {
   "cell_type": "markdown",
   "id": "harmful-grass",
   "metadata": {},
   "source": [
    "# Explore RAST Metadata\n",
    "\n",
    "I have abstracted this out because we need some new functions, and so I want a clean notebook. Will merge with the RAST notebook later!"
   ]
  },
  {
   "cell_type": "code",
   "execution_count": 1,
   "id": "political-playing",
   "metadata": {},
   "outputs": [
    {
     "ename": "ModuleNotFoundError",
     "evalue": "No module named 'PhiSpyAnalysis'",
     "output_type": "error",
     "traceback": [
      "\u001b[0;31m---------------------------------------------------------------------------\u001b[0m",
      "\u001b[0;31mModuleNotFoundError\u001b[0m                       Traceback (most recent call last)",
      "Input \u001b[0;32mIn [1]\u001b[0m, in \u001b[0;36m<cell line: 15>\u001b[0;34m()\u001b[0m\n\u001b[1;32m     12\u001b[0m \u001b[38;5;28;01mimport\u001b[39;00m \u001b[38;5;21;01mmath\u001b[39;00m\n\u001b[1;32m     13\u001b[0m \u001b[38;5;28;01mimport\u001b[39;00m \u001b[38;5;21;01mre\u001b[39;00m\n\u001b[0;32m---> 15\u001b[0m \u001b[38;5;28;01mfrom\u001b[39;00m \u001b[38;5;21;01mPhiSpyAnalysis\u001b[39;00m \u001b[38;5;28;01mimport\u001b[39;00m theils_u, DateConverter, printmd\n\u001b[1;32m     16\u001b[0m \u001b[38;5;28;01mfrom\u001b[39;00m \u001b[38;5;21;01mPhiSpyAnalysis\u001b[39;00m \u001b[38;5;28;01mimport\u001b[39;00m read_phages, read_gtdb, read_checkv, read_base_pp, read_categories, read_metadata, read_gbk_metadata\n\u001b[1;32m     18\u001b[0m \u001b[38;5;28;01mfrom\u001b[39;00m \u001b[38;5;21;01mscipy\u001b[39;00m\u001b[38;5;21;01m.\u001b[39;00m\u001b[38;5;21;01mstats\u001b[39;00m \u001b[38;5;28;01mimport\u001b[39;00m pearsonr, f_oneway, entropy\n",
      "\u001b[0;31mModuleNotFoundError\u001b[0m: No module named 'PhiSpyAnalysis'"
     ]
    }
   ],
   "source": [
    "import os\n",
    "import sys\n",
    "\n",
    "from collections import Counter\n",
    "\n",
    "import matplotlib.pyplot as plt\n",
    "import matplotlib.ticker as mticker\n",
    "import pandas as pd\n",
    "import seaborn as sns\n",
    "import numpy as np\n",
    "\n",
    "import math\n",
    "import re\n",
    "\n",
    "from PhiSpyAnalysis import theils_u, DateConverter, printmd\n",
    "from PhiSpyAnalysis import read_phages, read_gtdb, read_checkv, read_base_pp, read_categories, read_metadata, read_gbk_metadata\n",
    "\n",
    "from scipy.stats import pearsonr, f_oneway, entropy\n",
    "from sklearn.linear_model import LinearRegression\n",
    "import statsmodels.api as sm\n",
    "from statsmodels.formula.api import ols\n",
    "from statsmodels.stats.multicomp import pairwise_tukeyhsd, tukeyhsd, MultiComparison\n",
    "from statsmodels.multivariate.manova import MANOVA\n",
    "from sklearn import decomposition\n",
    "from sklearn.ensemble import RandomForestClassifier\n"
   ]
  },
  {
   "cell_type": "markdown",
   "id": "intended-fitness",
   "metadata": {},
   "source": [
    "## Read the metadata\n",
    "\n",
    "We just use the small file for development, and then clean up a few known issues"
   ]
  },
  {
   "cell_type": "code",
   "execution_count": null,
   "id": "ceramic-above",
   "metadata": {},
   "outputs": [],
   "source": [
    "use_small_data=False\n",
    "metadf = read_metadata(use_small_data=use_small_data)"
   ]
  },
  {
   "cell_type": "code",
   "execution_count": null,
   "id": "dying-centre",
   "metadata": {},
   "outputs": [],
   "source": [
    "metadf['isolation_date']"
   ]
  },
  {
   "cell_type": "markdown",
   "id": "social-prediction",
   "metadata": {},
   "source": [
    "# Theil's U\n",
    "\n",
    "This work comes from [The Search For Categorical Correlation](https://towardsdatascience.com/the-search-for-categorical-correlation-a1cf7f1888c9) and [The Dython Library](https://github.com/shakedzy/dython) but I have abstracted and simplified it here for my use\n",
    "\n",
    "_Note_ I have now abstracted this into a class for use in the code"
   ]
  },
  {
   "cell_type": "code",
   "execution_count": null,
   "id": "visible-front",
   "metadata": {},
   "outputs": [],
   "source": [
    "theils_u(metadf['isolation_country'], metadf['geographic_location'])"
   ]
  },
  {
   "cell_type": "code",
   "execution_count": null,
   "id": "naked-coordinate",
   "metadata": {},
   "outputs": [],
   "source": [
    "pd.set_option('display.max_rows', 1000)\n",
    "metadf[metadf['isolation_site'].notnull() & metadf['other_clinical'].notnull()][['isolation_site', 'other_clinical']]"
   ]
  },
  {
   "cell_type": "code",
   "execution_count": null,
   "id": "environmental-johns",
   "metadata": {},
   "outputs": [],
   "source": [
    "if False:\n",
    "    hm = pd.DataFrame(index=metadf.columns, columns=metadf.columns, dtype=float)\n",
    "    for i in range(len(metadf.columns)):\n",
    "        for j in range(len(metadf.columns)):\n",
    "            hm.iloc[i,j] = theils_u(metadf.iloc[:,i], metadf.iloc[:,j])\n",
    "    sns.heatmap(hm)"
   ]
  },
  {
   "cell_type": "code",
   "execution_count": null,
   "id": "bearing-voltage",
   "metadata": {
    "pycharm": {
     "is_executing": true
    }
   },
   "outputs": [],
   "source": [
    "acccol = 'assembly_accession'\n",
    "interesting_cols = [acccol, 'isolation_site', 'geographic_location', 'isolation_country', 'latitude', 'longitude', 'altitude', 'depth',\n",
    "                    'other_environmental', 'host_name', 'host_gender', 'host_age', 'host_health', \n",
    "                    'body_sample_site', 'body_sample_subsite', 'other_clinical', 'gram_stain', 'cell_shape',\n",
    "                    'motility', 'sporulation', 'temperature_range', 'optimal_temperature', 'salinity',\n",
    "                    'oxygen_requirement', 'habitat', 'disease', 'isolation_date']\n",
    "\n",
    "hmi = pd.DataFrame(index=interesting_cols, columns=interesting_cols, dtype=float)\n",
    "for i,j in enumerate(interesting_cols):\n",
    "    for x,y in enumerate(interesting_cols):\n",
    "        hmi.iloc[i,x] = theils_u(metadf.loc[:,j], metadf.loc[:,y])"
   ]
  },
  {
   "cell_type": "code",
   "execution_count": null,
   "id": "brazilian-cylinder",
   "metadata": {
    "pycharm": {
     "is_executing": true
    }
   },
   "outputs": [],
   "source": [
    "fig, ax = plt.subplots(nrows=1, ncols=1, figsize=(11, 8))\n",
    "# sns.heatmap(hmi, cmap='Blues', ax=ax)\n",
    "ax = sns.heatmap(hmi, linecolor='k', linewidths=0.01, ax=ax)\n",
    "t = ax.set_ylabel(\"How much can we infer about:\")\n",
    "t = ax.set_xlabel(\"Given that we know:\")"
   ]
  },
  {
   "cell_type": "code",
   "execution_count": null,
   "id": "accomplished-sunset",
   "metadata": {
    "pycharm": {
     "is_executing": true
    }
   },
   "outputs": [],
   "source": [
    "col1 = 'other_clinical'\n",
    "col2 = 'isolation_site'\n",
    "u1 = theils_u(metadf.loc[:,col1], metadf.loc[:,col2])\n",
    "u2 = theils_u(metadf.loc[:,col2], metadf.loc[:,col1])\n",
    "\n",
    "print(f\"{col1} vs {col2} {u1}\")\n",
    "print(f\"{col2} vs {col1} {u2}\")\n",
    "\n",
    "if u1 > u2:\n",
    "    print(\"Theils U is probability of X given Y\")\n",
    "    print(f\"This means that knowing the {col2} we have a lot of information about the {col1} \")\n",
    "    print(f\"but knowing the {col1} does not inform us about the {col2}\")\n",
    "else:\n",
    "    print(\"Theils U is probability of X given Y\")\n",
    "    print(f\"This means that knowing the {col1} we have a lot of information about the {col2} \")\n",
    "    print(f\"but knowing the {col2} does not inform us about the {col1}\")\n",
    "     "
   ]
  },
  {
   "cell_type": "code",
   "execution_count": null,
   "id": "painful-appointment",
   "metadata": {
    "pycharm": {
     "is_executing": true
    }
   },
   "outputs": [],
   "source": [
    "metadf[metadf['isolation_site'] == 'Sputum'].groupby(['other_clinical', 'isolation_site']).size()"
   ]
  },
  {
   "cell_type": "code",
   "execution_count": null,
   "id": "square-burns",
   "metadata": {
    "pycharm": {
     "is_executing": true
    }
   },
   "outputs": [],
   "source": [
    "metadf.groupby(['isolation_site', 'other_clinical']).size()"
   ]
  },
  {
   "cell_type": "code",
   "execution_count": null,
   "id": "immediate-louis",
   "metadata": {
    "pycharm": {
     "is_executing": true
    }
   },
   "outputs": [],
   "source": [
    "metadf.groupby(['other_clinical', 'isolation_site']).size()"
   ]
  },
  {
   "cell_type": "code",
   "execution_count": null,
   "id": "optical-heating",
   "metadata": {
    "pycharm": {
     "is_executing": true
    }
   },
   "outputs": [],
   "source": [
    "col1 = 'geographic_location'\n",
    "col2 = 'isolation_country'\n",
    "tmp = metadf[(metadf[col1].notnull()) & (metadf[col2].notnull())]\n",
    "\n",
    "tmp[[col1, col2]]"
   ]
  },
  {
   "cell_type": "code",
   "execution_count": null,
   "id": "frank-concentration",
   "metadata": {
    "pycharm": {
     "is_executing": true
    }
   },
   "outputs": [],
   "source": [
    "col1 = 'geographic_location'\n",
    "col2 = 'isolation_country'\n",
    "u1 = theils_u(metadf.loc[:,col1], metadf.loc[:,col2])\n",
    "u2 = theils_u(metadf.loc[:,col2], metadf.loc[:,col1])\n",
    "\n",
    "print(f\"{col1} vs {col2} {u1}\")\n",
    "print(f\"{col2} vs {col1} {u2}\")\n",
    "\n",
    "if u1 > u2:\n",
    "    print(\"Theils U is probability of X given Y\")\n",
    "    print(f\"This means that knowing the {col2} we have a lot of information about the {col1} \")\n",
    "    print(f\"but knowing the {col1} does not inform us about the {col2}\")\n",
    "else:\n",
    "    print(\"Theils U is probability of X given Y\")\n",
    "    print(f\"This means that knowing the {col1} we have a lot of information about the {col2} \")\n",
    "    print(f\"but knowing the {col2} does not inform us about the {col1}\")\n",
    "    "
   ]
  },
  {
   "cell_type": "code",
   "execution_count": null,
   "id": "french-supply",
   "metadata": {
    "pycharm": {
     "is_executing": true
    }
   },
   "outputs": [],
   "source": [
    "col1 = 'geographic_location'\n",
    "col2 = 'isolation_country'\n",
    "counts12 = {}\n",
    "counts21 = {}\n",
    "for index, row in metadf.iterrows():\n",
    "    gl = row[col1]\n",
    "    ic = row[col2]\n",
    "    \n",
    "    if gl not in counts12:\n",
    "        counts12[gl] = {}\n",
    "    counts12[gl][ic] = counts12[gl].get(ic, 0) + 1\n",
    "    \n",
    "    if ic not in counts21:\n",
    "        counts21[ic] = {}\n",
    "    counts21[ic][gl] = counts21[ic].get(gl, 0) + 1\n",
    "\n",
    "c12s = 0\n",
    "c12m = 0\n",
    "c21s = 0\n",
    "c21m = 0\n",
    "for k in counts12:\n",
    "    if len(counts12[k]) == 1:\n",
    "        c12s += 1\n",
    "    else:\n",
    "        c12m += 1\n",
    "\n",
    "for k in counts21:\n",
    "    if len(counts21[k]) == 1:\n",
    "        c21s += 1\n",
    "    else:\n",
    "        c21m += 1\n",
    "\n",
    "print(f\"Given {len(counts12.keys()):,} {col1} you will have {c12s:,} ({c12s/len(counts12.keys())*100:.2f} %) single {col2}\")\n",
    "print(f\"Given {len(counts12.keys()):,} {col1} you will have {c12m:,} ({c12m/len(counts12.keys())*100:.2f} %) multiple {col2}\")\n",
    "print(f\"\\nGiven {len(counts21.keys()):,} {col2} you will have {c21s:,} ({c21s/len(counts21.keys())*100:.2f} %) single {col1}\")\n",
    "print(f\"Given {len(counts21.keys()):,} {col2} you will have {c21m:,} ({c21m/len(counts21.keys())*100:.2f} %) multiple {col1}\")"
   ]
  }
 ],
 "metadata": {
  "kernelspec": {
   "display_name": "Python [conda env:miniconda3-bioinformatics]",
   "language": "python",
   "name": "conda-env-miniconda3-bioinformatics-py"
  },
  "language_info": {
   "codemirror_mode": {
    "name": "ipython",
    "version": 3
   },
   "file_extension": ".py",
   "mimetype": "text/x-python",
   "name": "python",
   "nbconvert_exporter": "python",
   "pygments_lexer": "ipython3",
   "version": "3.9.13"
  }
 },
 "nbformat": 4,
 "nbformat_minor": 5
}
