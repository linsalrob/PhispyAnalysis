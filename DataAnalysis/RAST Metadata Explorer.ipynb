{
 "cells": [
  {
   "cell_type": "markdown",
   "id": "harmful-grass",
   "metadata": {},
   "source": [
    "# Explore RAST Metadata\n",
    "\n",
    "I have abstracted this out because we need some new functions, and so I want a clean notebook. Will merge with the RAST notebook later!"
   ]
  },
  {
   "cell_type": "code",
   "execution_count": 1,
   "id": "political-playing",
   "metadata": {},
   "outputs": [],
   "source": [
    "import os\n",
    "import sys\n",
    "\n",
    "from collections import Counter\n",
    "\n",
    "import matplotlib.pyplot as plt\n",
    "import matplotlib.ticker as mticker\n",
    "import pandas as pd\n",
    "import seaborn as sns\n",
    "import numpy as np\n",
    "\n",
    "import math\n",
    "import re\n",
    "\n",
    "from PhiSpyAnalysis import theils_u, DateConverter, printmd\n",
    "from PhiSpyAnalysis import read_phages, read_gtdb, read_checkv, read_base_pp, read_categories, read_metadata, read_gbk_metadata\n",
    "\n",
    "from scipy.stats import pearsonr, f_oneway, entropy\n",
    "from sklearn.linear_model import LinearRegression\n",
    "import statsmodels.api as sm\n",
    "from statsmodels.formula.api import ols\n",
    "from statsmodels.stats.multicomp import pairwise_tukeyhsd, tukeyhsd, MultiComparison\n",
    "from statsmodels.multivariate.manova import MANOVA\n",
    "from sklearn import decomposition\n",
    "from sklearn.ensemble import RandomForestClassifier\n"
   ]
  },
  {
   "cell_type": "markdown",
   "id": "intended-fitness",
   "metadata": {},
   "source": [
    "## Read the metadata\n",
    "\n",
    "We just use the small file for development, and then clean up a few known issues"
   ]
  },
  {
   "cell_type": "code",
   "execution_count": 2,
   "id": "ceramic-above",
   "metadata": {},
   "outputs": [],
   "source": [
    "use_small_data=False\n",
    "metadf = read_metadata(use_small_data=use_small_data)"
   ]
  },
  {
   "cell_type": "code",
   "execution_count": 3,
   "id": "dying-centre",
   "metadata": {},
   "outputs": [
    {
     "data": {
      "text/plain": "0                 NaN\n1                 NaN\n2                 NaN\n3                 NaN\n4                 NaN\n             ...     \n320171    2015.674880\n320172            NaN\n320173    2014.675565\n320174    2014.675565\n320175            NaN\nName: isolation_date, Length: 320176, dtype: float64"
     },
     "execution_count": 3,
     "metadata": {},
     "output_type": "execute_result"
    }
   ],
   "source": [
    "metadf['isolation_date']"
   ]
  },
  {
   "cell_type": "markdown",
   "id": "social-prediction",
   "metadata": {},
   "source": [
    "# Theil's U\n",
    "\n",
    "This work comes from [The Search For Categorical Correlation](https://towardsdatascience.com/the-search-for-categorical-correlation-a1cf7f1888c9) and [The Dython Library](https://github.com/shakedzy/dython) but I have abstracted and simplified it here for my use\n",
    "\n",
    "_Note_ I have now abstracted this into a class for use in the code"
   ]
  },
  {
   "cell_type": "code",
   "execution_count": 4,
   "id": "visible-front",
   "metadata": {},
   "outputs": [
    {
     "data": {
      "text/plain": "0.9721908947957727"
     },
     "execution_count": 4,
     "metadata": {},
     "output_type": "execute_result"
    }
   ],
   "source": [
    "theils_u(metadf['isolation_country'], metadf['geographic_location'])"
   ]
  },
  {
   "cell_type": "code",
   "execution_count": 5,
   "id": "naked-coordinate",
   "metadata": {},
   "outputs": [
    {
     "data": {
      "text/plain": "                       isolation_site  \\\n14557                     Respiratory   \n14558                           Urine   \n15424                           Urine   \n15426                           Urine   \n15430                           Urine   \n15431                           Urine   \n15432                          Tissue   \n15433                           Urine   \n15434                           Urine   \n15440                     Respiratory   \n16622            Bronchoalveolar lava   \n16623                           Urine   \n17183                           Urine   \n17184                           Wound   \n17185                           Blood   \n17186                           Wound   \n17187                           Blood   \n17191                           Urine   \n17192  Abdominal surgical drain fluid   \n17193                     Respiratory   \n17194                           Urine   \n17195                           Urine   \n17196                           Urine   \n17197                           Urine   \n17198                           Urine   \n17199                           Wound   \n17200                           Urine   \n17201                           Urine   \n17202                           Urine   \n17203                     Respiratory   \n17204                           Wound   \n17205                     Respiratory   \n21877                          Tissue   \n21878                   Blood culture   \n23461                          Sputum   \n23462                          Sputum   \n23463                          Sputum   \n23464                          Sputum   \n23465                          Sputum   \n23466                          Sputum   \n23467                          Sputum   \n23468                          Sputum   \n23469                          Sputum   \n23470                          Sputum   \n23471                          Sputum   \n23472                          Sputum   \n23473                          Sputum   \n23474                          Sputum   \n23475                          Sputum   \n23476                          Sputum   \n23477                          Sputum   \n23478                          Sputum   \n23479                          Sputum   \n23480                          Sputum   \n23481                          Sputum   \n23482                          Sputum   \n23483                          Sputum   \n23484                          Sputum   \n23485                          Sputum   \n23486                          Sputum   \n23487                          Sputum   \n23488                          Sputum   \n23489                          Sputum   \n23490                          Sputum   \n23491                          Sputum   \n23492                          Sputum   \n23493                          Sputum   \n23494                          Sputum   \n23495                          Sputum   \n23496                          Sputum   \n23497                          Sputum   \n23498                          Sputum   \n23499                          Sputum   \n23500                          Sputum   \n23501                          Sputum   \n23502                          Sputum   \n23503                          Sputum   \n23504                          Sputum   \n23505                          Sputum   \n23506                          Sputum   \n23507                          Sputum   \n23508                          Sputum   \n23509                          Sputum   \n23510                          Sputum   \n23511                          Sputum   \n23512                          Sputum   \n23513                          Sputum   \n23514                          Sputum   \n23515                          Sputum   \n23516                          Sputum   \n23517                          Sputum   \n23518                          Sputum   \n23519                          Sputum   \n23520                          Sputum   \n23521                          Sputum   \n23522                          Sputum   \n23523                          Sputum   \n23524                          Sputum   \n23525                          Sputum   \n23526                          Sputum   \n23527                          Sputum   \n23528                          Sputum   \n23529                          Sputum   \n23530                          Sputum   \n23531                          Sputum   \n23532                          Sputum   \n23533                          Sputum   \n23534                          Sputum   \n23535                          Sputum   \n23536                          Sputum   \n23537                          Sputum   \n23538                          Sputum   \n23539                          Sputum   \n24655                           Urine   \n24770                           Urine   \n24771                           Urine   \n24772                           Urine   \n24773                          Sputum   \n24774                           Urine   \n24775                    Bile (fluid)   \n24776                           Urine   \n24796            Fluid Peri Panceatic   \n25222                          Sputum   \n25223                          Sputum   \n25224                          Sputum   \n25225                          Sputum   \n25267                     Respiratory   \n\n                                          other_clinical  \n14557                              hospital location:ICU  \n14558                          hospital location:non-ICU  \n15424                          hospital location:non-ICU  \n15426                          hospital location:non-ICU  \n15430                          hospital location:non-ICU  \n15431                          hospital location:non-ICU  \n15432                          hospital location:non-ICU  \n15433                          hospital location:non-ICU  \n15434                          hospital location:non-ICU  \n15440                          hospital location:non-ICU  \n16622     specimen location:INP;collection service:TRAUM  \n16623  specimen location:OUTPATIENT;collection servic...  \n17183                         collection service:UROLOGY  \n17184                            collection service:SURG  \n17185                            collection service:CMED  \n17186                           collection service:ORTHO  \n17187                            collection service:OMED  \n17191                          hospital location:non-ICU  \n17192                          hospital location:non-ICU  \n17193                          hospital location:non-ICU  \n17194                          hospital location:non-ICU  \n17195                          hospital location:non-ICU  \n17196                          hospital location:non-ICU  \n17197                          hospital location:non-ICU  \n17198                          hospital location:non-ICU  \n17199                              hospital location:ICU  \n17200                          hospital location:non-ICU  \n17201                          hospital location:non-ICU  \n17202                          hospital location:non-ICU  \n17203                          hospital location:non-ICU  \n17204                          hospital location:non-ICU  \n17205                          hospital location:non-ICU  \n21877       specimen location:INP;collection service:MED  \n21878      specimen location:INP;collection service:SURG  \n23461      comorbidity:HIV negative;treatment course:adm  \n23462      comorbidity:HIV negative;treatment course:adm  \n23463      comorbidity:HIV negative;treatment course:adm  \n23464      comorbidity:HIV negative;treatment course:adm  \n23465                               treatment course:adm  \n23466      comorbidity:HIV negative;treatment course:adm  \n23467      comorbidity:HIV negative;treatment course:adm  \n23468      comorbidity:HIV negative;treatment course:adm  \n23469      comorbidity:HIV positive;treatment course:adm  \n23470      comorbidity:HIV negative;treatment course:adm  \n23471      comorbidity:HIV negative;treatment course:adm  \n23472      comorbidity:HIV negative;treatment course:adm  \n23473      comorbidity:HIV negative;treatment course:adm  \n23474      comorbidity:HIV negative;treatment course:adm  \n23475      comorbidity:HIV negative;treatment course:adm  \n23476  comorbidity:MDR-TB, HIV positive;treatment cou...  \n23477      comorbidity:HIV positive;treatment course:adm  \n23478      comorbidity:HIV negative;treatment course:adm  \n23479      comorbidity:HIV positive;treatment course:adm  \n23480      comorbidity:HIV positive;treatment course:adm  \n23481      comorbidity:HIV positive;treatment course:adm  \n23482      comorbidity:HIV positive;treatment course:adm  \n23483      comorbidity:HIV negative;treatment course:adm  \n23484      comorbidity:HIV positive;treatment course:adm  \n23485      comorbidity:HIV negative;treatment course:adm  \n23486      comorbidity:HIV positive;treatment course:adm  \n23487      comorbidity:HIV positive;treatment course:adm  \n23488      comorbidity:HIV positive;treatment course:adm  \n23489      comorbidity:HIV positive;treatment course:adm  \n23490      comorbidity:HIV positive;treatment course:adm  \n23491      comorbidity:HIV positive;treatment course:adm  \n23492      comorbidity:HIV positive;treatment course:adm  \n23493      comorbidity:HIV negative;treatment course:adm  \n23494      comorbidity:HIV negative;treatment course:adm  \n23495      comorbidity:HIV negative;treatment course:adm  \n23496      comorbidity:HIV negative;treatment course:adm  \n23497      comorbidity:HIV negative;treatment course:adm  \n23498      comorbidity:HIV negative;treatment course:adm  \n23499      comorbidity:HIV negative;treatment course:adm  \n23500      comorbidity:HIV negative;treatment course:adm  \n23501      comorbidity:HIV negative;treatment course:adm  \n23502      comorbidity:HIV negative;treatment course:adm  \n23503  comorbidity:MDR-TB, HIV negative;treatment cou...  \n23504  comorbidity:MDR-TB, HIV negative;treatment cou...  \n23505  comorbidity:MDR_TB, HIV negative;treatment cou...  \n23506  comorbidity:MDR-TB, HIV negative;treatment cou...  \n23507  comorbidity:MDR-TB, HIV negative;treatment cou...  \n23508  comorbidity:MDR-TB, HIV negative;treatment cou...  \n23509      comorbidity:HIV negative;treatment course:adm  \n23510  comorbidity:MDR-TB, HIV negative;treatment cou...  \n23511      comorbidity:HIV negative;treatment course:adm  \n23512      comorbidity:HIV negative;treatment course:adm  \n23513      comorbidity:HIV negative;treatment course:adm  \n23514  comorbidity:MDR-TB, HIV negative;treatment cou...  \n23515      comorbidity:HIV negative;treatment course:adm  \n23516  comorbidity:MDR-TB, HIV negative;treatment cou...  \n23517  comorbidity:MDR-TB, HIV negative;treatment cou...  \n23518      comorbidity:HIV negative;treatment course:adm  \n23519      comorbidity:HIV negative;treatment course:adm  \n23520  comorbidity:MDR-TB, HIV negative;treatment cou...  \n23521  comorbidity:MDR-TB, HIV negative;treatment cou...  \n23522  comorbidity:MDR-TB, HIV negative;treatment cou...  \n23523      comorbidity:HIV negative;treatment course:adm  \n23524      comorbidity:HIV negative;treatment course:adm  \n23525  comorbidity:MDR-TB, HIV negative;treatment cou...  \n23526  comorbidity:MDR-TB, HIV negative;treatment cou...  \n23527      comorbidity:HIV negative;treatment course:adm  \n23528  comorbidity:MDR-TB, HIV negative;treatment cou...  \n23529  comorbidity:MDR-TB, HIV negative;treatment cou...  \n23530  comorbidity:MDR-TB, HIV negative;treatment cou...  \n23531      comorbidity:HIV negative;treatment course:adm  \n23532  comorbidity:MDR-TB, HIV negative;treatment cou...  \n23533  comorbidity:MDR-TB, HIV negative;treatment cou...  \n23534  comorbidity:MDR-TB, HIV negative;treatment cou...  \n23535  comorbidity:MDR-TB, HIV negative;treatment cou...  \n23536  comorbidity:MDR-TB, HIV negative;treatment cou...  \n23537  comorbidity:MDR-TB, HIV positive;treatment cou...  \n23538  comorbidity:MDR-TB, HIV negative;treatment cou...  \n23539  comorbidity:MDR-TB, HIV negative;treatment cou...  \n24655                          hospital location:non-ICU  \n24770                          hospital location:non-ICU  \n24771                          hospital location:non-ICU  \n24772                          hospital location:non-ICU  \n24773                          hospital location:non-ICU  \n24774                          hospital location:non-ICU  \n24775                          hospital location:non-ICU  \n24776                          hospital location:non-ICU  \n24796                               hospital location:OP  \n25222  comorbidity:MDR-TB, HIV negative;treatment cou...  \n25223      comorbidity:HIV negative;treatment course:adm  \n25224      comorbidity:HIV positive;treatment course:adm  \n25225      comorbidity:HIV negative;treatment course:adm  \n25267                            collection service:SURG  ",
      "text/html": "<div>\n<style scoped>\n    .dataframe tbody tr th:only-of-type {\n        vertical-align: middle;\n    }\n\n    .dataframe tbody tr th {\n        vertical-align: top;\n    }\n\n    .dataframe thead th {\n        text-align: right;\n    }\n</style>\n<table border=\"1\" class=\"dataframe\">\n  <thead>\n    <tr style=\"text-align: right;\">\n      <th></th>\n      <th>isolation_site</th>\n      <th>other_clinical</th>\n    </tr>\n  </thead>\n  <tbody>\n    <tr>\n      <th>14557</th>\n      <td>Respiratory</td>\n      <td>hospital location:ICU</td>\n    </tr>\n    <tr>\n      <th>14558</th>\n      <td>Urine</td>\n      <td>hospital location:non-ICU</td>\n    </tr>\n    <tr>\n      <th>15424</th>\n      <td>Urine</td>\n      <td>hospital location:non-ICU</td>\n    </tr>\n    <tr>\n      <th>15426</th>\n      <td>Urine</td>\n      <td>hospital location:non-ICU</td>\n    </tr>\n    <tr>\n      <th>15430</th>\n      <td>Urine</td>\n      <td>hospital location:non-ICU</td>\n    </tr>\n    <tr>\n      <th>15431</th>\n      <td>Urine</td>\n      <td>hospital location:non-ICU</td>\n    </tr>\n    <tr>\n      <th>15432</th>\n      <td>Tissue</td>\n      <td>hospital location:non-ICU</td>\n    </tr>\n    <tr>\n      <th>15433</th>\n      <td>Urine</td>\n      <td>hospital location:non-ICU</td>\n    </tr>\n    <tr>\n      <th>15434</th>\n      <td>Urine</td>\n      <td>hospital location:non-ICU</td>\n    </tr>\n    <tr>\n      <th>15440</th>\n      <td>Respiratory</td>\n      <td>hospital location:non-ICU</td>\n    </tr>\n    <tr>\n      <th>16622</th>\n      <td>Bronchoalveolar lava</td>\n      <td>specimen location:INP;collection service:TRAUM</td>\n    </tr>\n    <tr>\n      <th>16623</th>\n      <td>Urine</td>\n      <td>specimen location:OUTPATIENT;collection servic...</td>\n    </tr>\n    <tr>\n      <th>17183</th>\n      <td>Urine</td>\n      <td>collection service:UROLOGY</td>\n    </tr>\n    <tr>\n      <th>17184</th>\n      <td>Wound</td>\n      <td>collection service:SURG</td>\n    </tr>\n    <tr>\n      <th>17185</th>\n      <td>Blood</td>\n      <td>collection service:CMED</td>\n    </tr>\n    <tr>\n      <th>17186</th>\n      <td>Wound</td>\n      <td>collection service:ORTHO</td>\n    </tr>\n    <tr>\n      <th>17187</th>\n      <td>Blood</td>\n      <td>collection service:OMED</td>\n    </tr>\n    <tr>\n      <th>17191</th>\n      <td>Urine</td>\n      <td>hospital location:non-ICU</td>\n    </tr>\n    <tr>\n      <th>17192</th>\n      <td>Abdominal surgical drain fluid</td>\n      <td>hospital location:non-ICU</td>\n    </tr>\n    <tr>\n      <th>17193</th>\n      <td>Respiratory</td>\n      <td>hospital location:non-ICU</td>\n    </tr>\n    <tr>\n      <th>17194</th>\n      <td>Urine</td>\n      <td>hospital location:non-ICU</td>\n    </tr>\n    <tr>\n      <th>17195</th>\n      <td>Urine</td>\n      <td>hospital location:non-ICU</td>\n    </tr>\n    <tr>\n      <th>17196</th>\n      <td>Urine</td>\n      <td>hospital location:non-ICU</td>\n    </tr>\n    <tr>\n      <th>17197</th>\n      <td>Urine</td>\n      <td>hospital location:non-ICU</td>\n    </tr>\n    <tr>\n      <th>17198</th>\n      <td>Urine</td>\n      <td>hospital location:non-ICU</td>\n    </tr>\n    <tr>\n      <th>17199</th>\n      <td>Wound</td>\n      <td>hospital location:ICU</td>\n    </tr>\n    <tr>\n      <th>17200</th>\n      <td>Urine</td>\n      <td>hospital location:non-ICU</td>\n    </tr>\n    <tr>\n      <th>17201</th>\n      <td>Urine</td>\n      <td>hospital location:non-ICU</td>\n    </tr>\n    <tr>\n      <th>17202</th>\n      <td>Urine</td>\n      <td>hospital location:non-ICU</td>\n    </tr>\n    <tr>\n      <th>17203</th>\n      <td>Respiratory</td>\n      <td>hospital location:non-ICU</td>\n    </tr>\n    <tr>\n      <th>17204</th>\n      <td>Wound</td>\n      <td>hospital location:non-ICU</td>\n    </tr>\n    <tr>\n      <th>17205</th>\n      <td>Respiratory</td>\n      <td>hospital location:non-ICU</td>\n    </tr>\n    <tr>\n      <th>21877</th>\n      <td>Tissue</td>\n      <td>specimen location:INP;collection service:MED</td>\n    </tr>\n    <tr>\n      <th>21878</th>\n      <td>Blood culture</td>\n      <td>specimen location:INP;collection service:SURG</td>\n    </tr>\n    <tr>\n      <th>23461</th>\n      <td>Sputum</td>\n      <td>comorbidity:HIV negative;treatment course:adm</td>\n    </tr>\n    <tr>\n      <th>23462</th>\n      <td>Sputum</td>\n      <td>comorbidity:HIV negative;treatment course:adm</td>\n    </tr>\n    <tr>\n      <th>23463</th>\n      <td>Sputum</td>\n      <td>comorbidity:HIV negative;treatment course:adm</td>\n    </tr>\n    <tr>\n      <th>23464</th>\n      <td>Sputum</td>\n      <td>comorbidity:HIV negative;treatment course:adm</td>\n    </tr>\n    <tr>\n      <th>23465</th>\n      <td>Sputum</td>\n      <td>treatment course:adm</td>\n    </tr>\n    <tr>\n      <th>23466</th>\n      <td>Sputum</td>\n      <td>comorbidity:HIV negative;treatment course:adm</td>\n    </tr>\n    <tr>\n      <th>23467</th>\n      <td>Sputum</td>\n      <td>comorbidity:HIV negative;treatment course:adm</td>\n    </tr>\n    <tr>\n      <th>23468</th>\n      <td>Sputum</td>\n      <td>comorbidity:HIV negative;treatment course:adm</td>\n    </tr>\n    <tr>\n      <th>23469</th>\n      <td>Sputum</td>\n      <td>comorbidity:HIV positive;treatment course:adm</td>\n    </tr>\n    <tr>\n      <th>23470</th>\n      <td>Sputum</td>\n      <td>comorbidity:HIV negative;treatment course:adm</td>\n    </tr>\n    <tr>\n      <th>23471</th>\n      <td>Sputum</td>\n      <td>comorbidity:HIV negative;treatment course:adm</td>\n    </tr>\n    <tr>\n      <th>23472</th>\n      <td>Sputum</td>\n      <td>comorbidity:HIV negative;treatment course:adm</td>\n    </tr>\n    <tr>\n      <th>23473</th>\n      <td>Sputum</td>\n      <td>comorbidity:HIV negative;treatment course:adm</td>\n    </tr>\n    <tr>\n      <th>23474</th>\n      <td>Sputum</td>\n      <td>comorbidity:HIV negative;treatment course:adm</td>\n    </tr>\n    <tr>\n      <th>23475</th>\n      <td>Sputum</td>\n      <td>comorbidity:HIV negative;treatment course:adm</td>\n    </tr>\n    <tr>\n      <th>23476</th>\n      <td>Sputum</td>\n      <td>comorbidity:MDR-TB, HIV positive;treatment cou...</td>\n    </tr>\n    <tr>\n      <th>23477</th>\n      <td>Sputum</td>\n      <td>comorbidity:HIV positive;treatment course:adm</td>\n    </tr>\n    <tr>\n      <th>23478</th>\n      <td>Sputum</td>\n      <td>comorbidity:HIV negative;treatment course:adm</td>\n    </tr>\n    <tr>\n      <th>23479</th>\n      <td>Sputum</td>\n      <td>comorbidity:HIV positive;treatment course:adm</td>\n    </tr>\n    <tr>\n      <th>23480</th>\n      <td>Sputum</td>\n      <td>comorbidity:HIV positive;treatment course:adm</td>\n    </tr>\n    <tr>\n      <th>23481</th>\n      <td>Sputum</td>\n      <td>comorbidity:HIV positive;treatment course:adm</td>\n    </tr>\n    <tr>\n      <th>23482</th>\n      <td>Sputum</td>\n      <td>comorbidity:HIV positive;treatment course:adm</td>\n    </tr>\n    <tr>\n      <th>23483</th>\n      <td>Sputum</td>\n      <td>comorbidity:HIV negative;treatment course:adm</td>\n    </tr>\n    <tr>\n      <th>23484</th>\n      <td>Sputum</td>\n      <td>comorbidity:HIV positive;treatment course:adm</td>\n    </tr>\n    <tr>\n      <th>23485</th>\n      <td>Sputum</td>\n      <td>comorbidity:HIV negative;treatment course:adm</td>\n    </tr>\n    <tr>\n      <th>23486</th>\n      <td>Sputum</td>\n      <td>comorbidity:HIV positive;treatment course:adm</td>\n    </tr>\n    <tr>\n      <th>23487</th>\n      <td>Sputum</td>\n      <td>comorbidity:HIV positive;treatment course:adm</td>\n    </tr>\n    <tr>\n      <th>23488</th>\n      <td>Sputum</td>\n      <td>comorbidity:HIV positive;treatment course:adm</td>\n    </tr>\n    <tr>\n      <th>23489</th>\n      <td>Sputum</td>\n      <td>comorbidity:HIV positive;treatment course:adm</td>\n    </tr>\n    <tr>\n      <th>23490</th>\n      <td>Sputum</td>\n      <td>comorbidity:HIV positive;treatment course:adm</td>\n    </tr>\n    <tr>\n      <th>23491</th>\n      <td>Sputum</td>\n      <td>comorbidity:HIV positive;treatment course:adm</td>\n    </tr>\n    <tr>\n      <th>23492</th>\n      <td>Sputum</td>\n      <td>comorbidity:HIV positive;treatment course:adm</td>\n    </tr>\n    <tr>\n      <th>23493</th>\n      <td>Sputum</td>\n      <td>comorbidity:HIV negative;treatment course:adm</td>\n    </tr>\n    <tr>\n      <th>23494</th>\n      <td>Sputum</td>\n      <td>comorbidity:HIV negative;treatment course:adm</td>\n    </tr>\n    <tr>\n      <th>23495</th>\n      <td>Sputum</td>\n      <td>comorbidity:HIV negative;treatment course:adm</td>\n    </tr>\n    <tr>\n      <th>23496</th>\n      <td>Sputum</td>\n      <td>comorbidity:HIV negative;treatment course:adm</td>\n    </tr>\n    <tr>\n      <th>23497</th>\n      <td>Sputum</td>\n      <td>comorbidity:HIV negative;treatment course:adm</td>\n    </tr>\n    <tr>\n      <th>23498</th>\n      <td>Sputum</td>\n      <td>comorbidity:HIV negative;treatment course:adm</td>\n    </tr>\n    <tr>\n      <th>23499</th>\n      <td>Sputum</td>\n      <td>comorbidity:HIV negative;treatment course:adm</td>\n    </tr>\n    <tr>\n      <th>23500</th>\n      <td>Sputum</td>\n      <td>comorbidity:HIV negative;treatment course:adm</td>\n    </tr>\n    <tr>\n      <th>23501</th>\n      <td>Sputum</td>\n      <td>comorbidity:HIV negative;treatment course:adm</td>\n    </tr>\n    <tr>\n      <th>23502</th>\n      <td>Sputum</td>\n      <td>comorbidity:HIV negative;treatment course:adm</td>\n    </tr>\n    <tr>\n      <th>23503</th>\n      <td>Sputum</td>\n      <td>comorbidity:MDR-TB, HIV negative;treatment cou...</td>\n    </tr>\n    <tr>\n      <th>23504</th>\n      <td>Sputum</td>\n      <td>comorbidity:MDR-TB, HIV negative;treatment cou...</td>\n    </tr>\n    <tr>\n      <th>23505</th>\n      <td>Sputum</td>\n      <td>comorbidity:MDR_TB, HIV negative;treatment cou...</td>\n    </tr>\n    <tr>\n      <th>23506</th>\n      <td>Sputum</td>\n      <td>comorbidity:MDR-TB, HIV negative;treatment cou...</td>\n    </tr>\n    <tr>\n      <th>23507</th>\n      <td>Sputum</td>\n      <td>comorbidity:MDR-TB, HIV negative;treatment cou...</td>\n    </tr>\n    <tr>\n      <th>23508</th>\n      <td>Sputum</td>\n      <td>comorbidity:MDR-TB, HIV negative;treatment cou...</td>\n    </tr>\n    <tr>\n      <th>23509</th>\n      <td>Sputum</td>\n      <td>comorbidity:HIV negative;treatment course:adm</td>\n    </tr>\n    <tr>\n      <th>23510</th>\n      <td>Sputum</td>\n      <td>comorbidity:MDR-TB, HIV negative;treatment cou...</td>\n    </tr>\n    <tr>\n      <th>23511</th>\n      <td>Sputum</td>\n      <td>comorbidity:HIV negative;treatment course:adm</td>\n    </tr>\n    <tr>\n      <th>23512</th>\n      <td>Sputum</td>\n      <td>comorbidity:HIV negative;treatment course:adm</td>\n    </tr>\n    <tr>\n      <th>23513</th>\n      <td>Sputum</td>\n      <td>comorbidity:HIV negative;treatment course:adm</td>\n    </tr>\n    <tr>\n      <th>23514</th>\n      <td>Sputum</td>\n      <td>comorbidity:MDR-TB, HIV negative;treatment cou...</td>\n    </tr>\n    <tr>\n      <th>23515</th>\n      <td>Sputum</td>\n      <td>comorbidity:HIV negative;treatment course:adm</td>\n    </tr>\n    <tr>\n      <th>23516</th>\n      <td>Sputum</td>\n      <td>comorbidity:MDR-TB, HIV negative;treatment cou...</td>\n    </tr>\n    <tr>\n      <th>23517</th>\n      <td>Sputum</td>\n      <td>comorbidity:MDR-TB, HIV negative;treatment cou...</td>\n    </tr>\n    <tr>\n      <th>23518</th>\n      <td>Sputum</td>\n      <td>comorbidity:HIV negative;treatment course:adm</td>\n    </tr>\n    <tr>\n      <th>23519</th>\n      <td>Sputum</td>\n      <td>comorbidity:HIV negative;treatment course:adm</td>\n    </tr>\n    <tr>\n      <th>23520</th>\n      <td>Sputum</td>\n      <td>comorbidity:MDR-TB, HIV negative;treatment cou...</td>\n    </tr>\n    <tr>\n      <th>23521</th>\n      <td>Sputum</td>\n      <td>comorbidity:MDR-TB, HIV negative;treatment cou...</td>\n    </tr>\n    <tr>\n      <th>23522</th>\n      <td>Sputum</td>\n      <td>comorbidity:MDR-TB, HIV negative;treatment cou...</td>\n    </tr>\n    <tr>\n      <th>23523</th>\n      <td>Sputum</td>\n      <td>comorbidity:HIV negative;treatment course:adm</td>\n    </tr>\n    <tr>\n      <th>23524</th>\n      <td>Sputum</td>\n      <td>comorbidity:HIV negative;treatment course:adm</td>\n    </tr>\n    <tr>\n      <th>23525</th>\n      <td>Sputum</td>\n      <td>comorbidity:MDR-TB, HIV negative;treatment cou...</td>\n    </tr>\n    <tr>\n      <th>23526</th>\n      <td>Sputum</td>\n      <td>comorbidity:MDR-TB, HIV negative;treatment cou...</td>\n    </tr>\n    <tr>\n      <th>23527</th>\n      <td>Sputum</td>\n      <td>comorbidity:HIV negative;treatment course:adm</td>\n    </tr>\n    <tr>\n      <th>23528</th>\n      <td>Sputum</td>\n      <td>comorbidity:MDR-TB, HIV negative;treatment cou...</td>\n    </tr>\n    <tr>\n      <th>23529</th>\n      <td>Sputum</td>\n      <td>comorbidity:MDR-TB, HIV negative;treatment cou...</td>\n    </tr>\n    <tr>\n      <th>23530</th>\n      <td>Sputum</td>\n      <td>comorbidity:MDR-TB, HIV negative;treatment cou...</td>\n    </tr>\n    <tr>\n      <th>23531</th>\n      <td>Sputum</td>\n      <td>comorbidity:HIV negative;treatment course:adm</td>\n    </tr>\n    <tr>\n      <th>23532</th>\n      <td>Sputum</td>\n      <td>comorbidity:MDR-TB, HIV negative;treatment cou...</td>\n    </tr>\n    <tr>\n      <th>23533</th>\n      <td>Sputum</td>\n      <td>comorbidity:MDR-TB, HIV negative;treatment cou...</td>\n    </tr>\n    <tr>\n      <th>23534</th>\n      <td>Sputum</td>\n      <td>comorbidity:MDR-TB, HIV negative;treatment cou...</td>\n    </tr>\n    <tr>\n      <th>23535</th>\n      <td>Sputum</td>\n      <td>comorbidity:MDR-TB, HIV negative;treatment cou...</td>\n    </tr>\n    <tr>\n      <th>23536</th>\n      <td>Sputum</td>\n      <td>comorbidity:MDR-TB, HIV negative;treatment cou...</td>\n    </tr>\n    <tr>\n      <th>23537</th>\n      <td>Sputum</td>\n      <td>comorbidity:MDR-TB, HIV positive;treatment cou...</td>\n    </tr>\n    <tr>\n      <th>23538</th>\n      <td>Sputum</td>\n      <td>comorbidity:MDR-TB, HIV negative;treatment cou...</td>\n    </tr>\n    <tr>\n      <th>23539</th>\n      <td>Sputum</td>\n      <td>comorbidity:MDR-TB, HIV negative;treatment cou...</td>\n    </tr>\n    <tr>\n      <th>24655</th>\n      <td>Urine</td>\n      <td>hospital location:non-ICU</td>\n    </tr>\n    <tr>\n      <th>24770</th>\n      <td>Urine</td>\n      <td>hospital location:non-ICU</td>\n    </tr>\n    <tr>\n      <th>24771</th>\n      <td>Urine</td>\n      <td>hospital location:non-ICU</td>\n    </tr>\n    <tr>\n      <th>24772</th>\n      <td>Urine</td>\n      <td>hospital location:non-ICU</td>\n    </tr>\n    <tr>\n      <th>24773</th>\n      <td>Sputum</td>\n      <td>hospital location:non-ICU</td>\n    </tr>\n    <tr>\n      <th>24774</th>\n      <td>Urine</td>\n      <td>hospital location:non-ICU</td>\n    </tr>\n    <tr>\n      <th>24775</th>\n      <td>Bile (fluid)</td>\n      <td>hospital location:non-ICU</td>\n    </tr>\n    <tr>\n      <th>24776</th>\n      <td>Urine</td>\n      <td>hospital location:non-ICU</td>\n    </tr>\n    <tr>\n      <th>24796</th>\n      <td>Fluid Peri Panceatic</td>\n      <td>hospital location:OP</td>\n    </tr>\n    <tr>\n      <th>25222</th>\n      <td>Sputum</td>\n      <td>comorbidity:MDR-TB, HIV negative;treatment cou...</td>\n    </tr>\n    <tr>\n      <th>25223</th>\n      <td>Sputum</td>\n      <td>comorbidity:HIV negative;treatment course:adm</td>\n    </tr>\n    <tr>\n      <th>25224</th>\n      <td>Sputum</td>\n      <td>comorbidity:HIV positive;treatment course:adm</td>\n    </tr>\n    <tr>\n      <th>25225</th>\n      <td>Sputum</td>\n      <td>comorbidity:HIV negative;treatment course:adm</td>\n    </tr>\n    <tr>\n      <th>25267</th>\n      <td>Respiratory</td>\n      <td>collection service:SURG</td>\n    </tr>\n  </tbody>\n</table>\n</div>"
     },
     "execution_count": 5,
     "metadata": {},
     "output_type": "execute_result"
    }
   ],
   "source": [
    "pd.set_option('display.max_rows', 1000)\n",
    "metadf[metadf['isolation_site'].notnull() & metadf['other_clinical'].notnull()][['isolation_site', 'other_clinical']]"
   ]
  },
  {
   "cell_type": "code",
   "execution_count": 6,
   "id": "environmental-johns",
   "metadata": {},
   "outputs": [],
   "source": [
    "if False:\n",
    "    hm = pd.DataFrame(index=metadf.columns, columns=metadf.columns, dtype=float)\n",
    "    for i in range(len(metadf.columns)):\n",
    "        for j in range(len(metadf.columns)):\n",
    "            hm.iloc[i,j] = theils_u(metadf.iloc[:,i], metadf.iloc[:,j])\n",
    "    sns.heatmap(hm)"
   ]
  },
  {
   "cell_type": "code",
   "execution_count": null,
   "id": "bearing-voltage",
   "metadata": {
    "pycharm": {
     "is_executing": true
    }
   },
   "outputs": [],
   "source": [
    "acccol = 'assembly_accession'\n",
    "interesting_cols = [acccol, 'isolation_site', 'geographic_location', 'isolation_country', 'latitude', 'longitude', 'altitude', 'depth',\n",
    "                    'other_environmental', 'host_name', 'host_gender', 'host_age', 'host_health', \n",
    "                    'body_sample_site', 'body_sample_subsite', 'other_clinical', 'gram_stain', 'cell_shape',\n",
    "                    'motility', 'sporulation', 'temperature_range', 'optimal_temperature', 'salinity',\n",
    "                    'oxygen_requirement', 'habitat', 'disease', 'isolation_date']\n",
    "\n",
    "hmi = pd.DataFrame(index=interesting_cols, columns=interesting_cols, dtype=float)\n",
    "for i,j in enumerate(interesting_cols):\n",
    "    for x,y in enumerate(interesting_cols):\n",
    "        hmi.iloc[i,x] = theils_u(metadf.loc[:,j], metadf.loc[:,y])"
   ]
  },
  {
   "cell_type": "code",
   "execution_count": null,
   "id": "brazilian-cylinder",
   "metadata": {
    "pycharm": {
     "is_executing": true
    }
   },
   "outputs": [],
   "source": [
    "fig, ax = plt.subplots(nrows=1, ncols=1, figsize=(11, 8))\n",
    "# sns.heatmap(hmi, cmap='Blues', ax=ax)\n",
    "ax = sns.heatmap(hmi, linecolor='k', linewidths=0.01, ax=ax)\n",
    "t = ax.set_ylabel(\"How much can we infer about:\")\n",
    "t = ax.set_xlabel(\"Given that we know:\")"
   ]
  },
  {
   "cell_type": "code",
   "execution_count": null,
   "id": "accomplished-sunset",
   "metadata": {
    "pycharm": {
     "is_executing": true
    }
   },
   "outputs": [],
   "source": [
    "col1 = 'other_clinical'\n",
    "col2 = 'isolation_site'\n",
    "u1 = theils_u(metadf.loc[:,col1], metadf.loc[:,col2])\n",
    "u2 = theils_u(metadf.loc[:,col2], metadf.loc[:,col1])\n",
    "\n",
    "print(f\"{col1} vs {col2} {u1}\")\n",
    "print(f\"{col2} vs {col1} {u2}\")\n",
    "\n",
    "if u1 > u2:\n",
    "    print(\"Theils U is probability of X given Y\")\n",
    "    print(f\"This means that knowing the {col2} we have a lot of information about the {col1} \")\n",
    "    print(f\"but knowing the {col1} does not inform us about the {col2}\")\n",
    "else:\n",
    "    print(\"Theils U is probability of X given Y\")\n",
    "    print(f\"This means that knowing the {col1} we have a lot of information about the {col2} \")\n",
    "    print(f\"but knowing the {col2} does not inform us about the {col1}\")\n",
    "     "
   ]
  },
  {
   "cell_type": "code",
   "execution_count": null,
   "id": "painful-appointment",
   "metadata": {
    "pycharm": {
     "is_executing": true
    }
   },
   "outputs": [],
   "source": [
    "metadf[metadf['isolation_site'] == 'Sputum'].groupby(['other_clinical', 'isolation_site']).size()"
   ]
  },
  {
   "cell_type": "code",
   "execution_count": null,
   "id": "square-burns",
   "metadata": {
    "pycharm": {
     "is_executing": true
    }
   },
   "outputs": [],
   "source": [
    "metadf.groupby(['isolation_site', 'other_clinical']).size()"
   ]
  },
  {
   "cell_type": "code",
   "execution_count": null,
   "id": "immediate-louis",
   "metadata": {
    "pycharm": {
     "is_executing": true
    }
   },
   "outputs": [],
   "source": [
    "metadf.groupby(['other_clinical', 'isolation_site']).size()"
   ]
  },
  {
   "cell_type": "code",
   "execution_count": null,
   "id": "optical-heating",
   "metadata": {
    "pycharm": {
     "is_executing": true
    }
   },
   "outputs": [],
   "source": [
    "col1 = 'geographic_location'\n",
    "col2 = 'isolation_country'\n",
    "tmp = metadf[(metadf[col1].notnull()) & (metadf[col2].notnull())]\n",
    "\n",
    "tmp[[col1, col2]]"
   ]
  },
  {
   "cell_type": "code",
   "execution_count": null,
   "id": "frank-concentration",
   "metadata": {
    "pycharm": {
     "is_executing": true
    }
   },
   "outputs": [],
   "source": [
    "col1 = 'geographic_location'\n",
    "col2 = 'isolation_country'\n",
    "u1 = theils_u(metadf.loc[:,col1], metadf.loc[:,col2])\n",
    "u2 = theils_u(metadf.loc[:,col2], metadf.loc[:,col1])\n",
    "\n",
    "print(f\"{col1} vs {col2} {u1}\")\n",
    "print(f\"{col2} vs {col1} {u2}\")\n",
    "\n",
    "if u1 > u2:\n",
    "    print(\"Theils U is probability of X given Y\")\n",
    "    print(f\"This means that knowing the {col2} we have a lot of information about the {col1} \")\n",
    "    print(f\"but knowing the {col1} does not inform us about the {col2}\")\n",
    "else:\n",
    "    print(\"Theils U is probability of X given Y\")\n",
    "    print(f\"This means that knowing the {col1} we have a lot of information about the {col2} \")\n",
    "    print(f\"but knowing the {col2} does not inform us about the {col1}\")\n",
    "    "
   ]
  },
  {
   "cell_type": "code",
   "execution_count": null,
   "id": "french-supply",
   "metadata": {
    "pycharm": {
     "is_executing": true
    }
   },
   "outputs": [],
   "source": [
    "col1 = 'geographic_location'\n",
    "col2 = 'isolation_country'\n",
    "counts12 = {}\n",
    "counts21 = {}\n",
    "for index, row in metadf.iterrows():\n",
    "    gl = row[col1]\n",
    "    ic = row[col2]\n",
    "    \n",
    "    if gl not in counts12:\n",
    "        counts12[gl] = {}\n",
    "    counts12[gl][ic] = counts12[gl].get(ic, 0) + 1\n",
    "    \n",
    "    if ic not in counts21:\n",
    "        counts21[ic] = {}\n",
    "    counts21[ic][gl] = counts21[ic].get(gl, 0) + 1\n",
    "\n",
    "c12s = 0\n",
    "c12m = 0\n",
    "c21s = 0\n",
    "c21m = 0\n",
    "for k in counts12:\n",
    "    if len(counts12[k]) == 1:\n",
    "        c12s += 1\n",
    "    else:\n",
    "        c12m += 1\n",
    "\n",
    "for k in counts21:\n",
    "    if len(counts21[k]) == 1:\n",
    "        c21s += 1\n",
    "    else:\n",
    "        c21m += 1\n",
    "\n",
    "print(f\"Given {len(counts12.keys()):,} {col1} you will have {c12s:,} ({c12s/len(counts12.keys())*100:.2f} %) single {col2}\")\n",
    "print(f\"Given {len(counts12.keys()):,} {col1} you will have {c12m:,} ({c12m/len(counts12.keys())*100:.2f} %) multiple {col2}\")\n",
    "print(f\"\\nGiven {len(counts21.keys()):,} {col2} you will have {c21s:,} ({c21s/len(counts21.keys())*100:.2f} %) single {col1}\")\n",
    "print(f\"Given {len(counts21.keys()):,} {col2} you will have {c21m:,} ({c21m/len(counts21.keys())*100:.2f} %) multiple {col1}\")"
   ]
  }
 ],
 "metadata": {
  "kernelspec": {
   "display_name": "Python 3 (ipykernel)",
   "language": "python",
   "name": "python3"
  },
  "language_info": {
   "codemirror_mode": {
    "name": "ipython",
    "version": 3
   },
   "file_extension": ".py",
   "mimetype": "text/x-python",
   "name": "python",
   "nbconvert_exporter": "python",
   "pygments_lexer": "ipython3",
   "version": "3.9.5"
  }
 },
 "nbformat": 4,
 "nbformat_minor": 5
}