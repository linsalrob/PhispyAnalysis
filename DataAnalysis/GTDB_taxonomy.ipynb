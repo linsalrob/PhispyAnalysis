{
 "cells": [
  {
   "cell_type": "markdown",
   "metadata": {
    "collapsed": true
   },
   "source": [
    "# Merge the prophage counts based on the host's taxonomy\n",
    "\n",
    "We are going to use the [GTDB](https://gtdb.ecogenomic.org/) taxonomy to count the number of prophages at different levels. Because of this, we merge with the GTDB metadata file."
   ]
  },
  {
   "cell_type": "code",
   "execution_count": 1,
   "metadata": {},
   "outputs": [
    {
     "ename": "ModuleNotFoundError",
     "evalue": "No module named 'Bio'",
     "output_type": "error",
     "traceback": [
      "\u001b[1;31m---------------------------------------------------------------------------\u001b[0m",
      "\u001b[1;31mModuleNotFoundError\u001b[0m                       Traceback (most recent call last)",
      "Input \u001b[1;32mIn [1]\u001b[0m, in \u001b[0;36m<cell line: 16>\u001b[1;34m()\u001b[0m\n\u001b[0;32m     13\u001b[0m \u001b[38;5;28;01mimport\u001b[39;00m \u001b[38;5;21;01mre\u001b[39;00m\n\u001b[0;32m     14\u001b[0m \u001b[38;5;28;01mimport\u001b[39;00m \u001b[38;5;21;01mstring\u001b[39;00m\n\u001b[1;32m---> 16\u001b[0m \u001b[38;5;28;01mfrom\u001b[39;00m \u001b[38;5;21;01mPhiSpyAnalysis\u001b[39;00m \u001b[38;5;28;01mimport\u001b[39;00m theils_u, DateConverter, printmd\n\u001b[0;32m     17\u001b[0m \u001b[38;5;28;01mfrom\u001b[39;00m \u001b[38;5;21;01mPhiSpyAnalysis\u001b[39;00m \u001b[38;5;28;01mimport\u001b[39;00m read_phages, read_gtdb, read_checkv, read_base_pp, read_categories, read_metadata, read_transposons\n\u001b[0;32m     19\u001b[0m \u001b[38;5;28;01mfrom\u001b[39;00m \u001b[38;5;21;01mscipy\u001b[39;00m\u001b[38;5;21;01m.\u001b[39;00m\u001b[38;5;21;01mstats\u001b[39;00m \u001b[38;5;28;01mimport\u001b[39;00m pearsonr, f_oneway\n",
      "File \u001b[1;32mC:\\Workspace\\edwa0468\\GitHubs\\PhispyAnalysis\\PhiSpyAnalysis\\__init__.py:8\u001b[0m, in \u001b[0;36m<module>\u001b[1;34m\u001b[0m\n\u001b[0;32m      6\u001b[0m \u001b[38;5;28;01mfrom\u001b[39;00m \u001b[38;5;21;01m.\u001b[39;00m\u001b[38;5;21;01mread_data_frames\u001b[39;00m \u001b[38;5;28;01mimport\u001b[39;00m read_insertion_lengths, read_phage_locations\n\u001b[0;32m      7\u001b[0m \u001b[38;5;28;01mfrom\u001b[39;00m \u001b[38;5;21;01m.\u001b[39;00m\u001b[38;5;21;01mdisplay\u001b[39;00m \u001b[38;5;28;01mimport\u001b[39;00m printmd\n\u001b[1;32m----> 8\u001b[0m \u001b[38;5;28;01mfrom\u001b[39;00m \u001b[38;5;21;01m.\u001b[39;00m\u001b[38;5;21;01mgenbank\u001b[39;00m \u001b[38;5;28;01mimport\u001b[39;00m is_gzip_file, parse_genbank\n\u001b[0;32m     10\u001b[0m __all__ \u001b[38;5;241m=\u001b[39m [\n\u001b[0;32m     11\u001b[0m     \u001b[38;5;124m'\u001b[39m\u001b[38;5;124mtheils_u\u001b[39m\u001b[38;5;124m'\u001b[39m,\n\u001b[0;32m     12\u001b[0m     \u001b[38;5;124m'\u001b[39m\u001b[38;5;124mCantConvertDate\u001b[39m\u001b[38;5;124m'\u001b[39m, \u001b[38;5;124m'\u001b[39m\u001b[38;5;124mDateConverter\u001b[39m\u001b[38;5;124m'\u001b[39m,\n\u001b[1;32m   (...)\u001b[0m\n\u001b[0;32m     17\u001b[0m \n\u001b[0;32m     18\u001b[0m ]\n",
      "File \u001b[1;32mC:\\Workspace\\edwa0468\\GitHubs\\PhispyAnalysis\\PhiSpyAnalysis\\genbank.py:7\u001b[0m, in \u001b[0;36m<module>\u001b[1;34m\u001b[0m\n\u001b[0;32m      5\u001b[0m \u001b[38;5;28;01mimport\u001b[39;00m \u001b[38;5;21;01msys\u001b[39;00m\n\u001b[0;32m      6\u001b[0m \u001b[38;5;28;01mimport\u001b[39;00m \u001b[38;5;21;01mgzip\u001b[39;00m\n\u001b[1;32m----> 7\u001b[0m \u001b[38;5;28;01mfrom\u001b[39;00m \u001b[38;5;21;01mBio\u001b[39;00m \u001b[38;5;28;01mimport\u001b[39;00m SeqIO\n\u001b[0;32m      8\u001b[0m \u001b[38;5;28;01mimport\u001b[39;00m \u001b[38;5;21;01mbinascii\u001b[39;00m\n\u001b[0;32m     10\u001b[0m \u001b[38;5;28;01mdef\u001b[39;00m \u001b[38;5;21mis_gzip_file\u001b[39m(f):\n",
      "\u001b[1;31mModuleNotFoundError\u001b[0m: No module named 'Bio'"
     ]
    }
   ],
   "source": [
    "# A lot of this is not used, but we import it so we have it later!\n",
    "import os\n",
    "import sys\n",
    "import matplotlib.pyplot as plt\n",
    "import matplotlib.ticker as mticker\n",
    "from matplotlib.ticker import FuncFormatter\n",
    "\n",
    "import pandas as pd\n",
    "import seaborn as sns\n",
    "import numpy as np\n",
    "\n",
    "import math\n",
    "import re\n",
    "import string\n",
    "\n",
    "from PhiSpyAnalysis import theils_u, DateConverter, printmd\n",
    "from PhiSpyAnalysis import read_phages, read_gtdb, read_checkv, read_base_pp, read_categories, read_metadata, read_transposons\n",
    "\n",
    "from scipy.stats import pearsonr, f_oneway\n",
    "from sklearn.linear_model import LinearRegression\n",
    "from sklearn import decomposition\n",
    "from sklearn.ensemble import RandomForestClassifier\n",
    "\n",
    "import statsmodels.api as sm\n",
    "from statsmodels.formula.api import ols\n",
    "from statsmodels.stats.multicomp import pairwise_tukeyhsd, tukeyhsd, MultiComparison\n",
    "from statsmodels.multivariate.manova import MANOVA\n"
   ]
  },
  {
   "cell_type": "code",
   "execution_count": null,
   "metadata": {
    "scrolled": true
   },
   "outputs": [],
   "source": [
    "phagesdf = read_phages(maxcontigs=-1)\n",
    "phagesdf"
   ]
  },
  {
   "cell_type": "markdown",
   "metadata": {},
   "source": [
    "### Read the data file\n",
    "\n",
    "The metadata is from GTDB. The phage data is from us.\n"
   ]
  },
  {
   "cell_type": "code",
   "execution_count": null,
   "metadata": {},
   "outputs": [],
   "source": [
    "gtdb = read_gtdb()\n",
    "gtdb"
   ]
  },
  {
   "cell_type": "markdown",
   "metadata": {},
   "source": [
    "### Abstract out the accession and name into new columns\n",
    "\n",
    "This will allow us to merge the data with the PATRIC and GTDB data"
   ]
  },
  {
   "cell_type": "code",
   "execution_count": null,
   "metadata": {},
   "outputs": [],
   "source": [
    "acccol = 'assembly_accession'"
   ]
  },
  {
   "cell_type": "markdown",
   "metadata": {},
   "source": [
    "## Sanity check\n",
    "\n",
    "This is just to make sure that we are all working on the same data. Here, we make a temporary data frame that has the number of contigs and the number of basepairs in the genome, and use those to compare to see if we think we are working on the same thing.\n",
    "\n",
    "If we find columns that are no good, we should delete them (but we don't, yay!)"
   ]
  },
  {
   "cell_type": "code",
   "execution_count": null,
   "metadata": {},
   "outputs": [],
   "source": [
    "def are_same(x):\n",
    "    # currently fixing contig counts, so when that is done delete the next line and uncomment the one after\n",
    "    return x['genome_size'] == x['Genome length']\n",
    "    # return x['genome_size'] == x['Genome length'] and x['contig_count'] == x['Contigs']\n",
    "\n",
    "comparison = pd.merge(gtdb[[acccol, 'contig_count', 'genome_size']],\n",
    "                      phagesdf[[acccol, 'Contigs', 'Genome length']],\n",
    "                      how='inner', left_on=acccol, right_on=acccol)\n",
    "\n",
    "comparison['same'] = comparison.apply(are_same, axis=1)\n",
    "# look for rows that are not the same\n",
    "comparison[comparison['same']==False]"
   ]
  },
  {
   "cell_type": "markdown",
   "metadata": {},
   "source": [
    "## Filter the genomes\n",
    "\n",
    "We should probably filter out based on quality. We have three quality scores (mimag high/medium/low) plus the number of contigs. Lets make a little violin plot of the quality vs Total or Kept prophages.\n"
   ]
  },
  {
   "cell_type": "code",
   "execution_count": null,
   "metadata": {},
   "outputs": [],
   "source": [
    "qual = pd.merge(gtdb[[acccol, 'checkm_completeness', 'gc_percentage', 'contig_count', 'genome_size', 'mimag_high_quality', 'mimag_low_quality', 'mimag_medium_quality']],\n",
    "                phagesdf[[acccol, 'Total Predicted Prophages', 'Kept']],\n",
    "                how='inner', left_on=acccol, right_on=acccol)\n",
    "qual"
   ]
  },
  {
   "cell_type": "code",
   "execution_count": null,
   "metadata": {},
   "outputs": [],
   "source": [
    "def mimag_qual(x):\n",
    "    if x['mimag_high_quality'] == 't':\n",
    "        return \"High\"\n",
    "    if x['mimag_medium_quality'] == 't':\n",
    "        return \"Medium\"\n",
    "    if x['mimag_low_quality'] == 't':\n",
    "        return \"Low\"\n",
    "    return \"Unknown\"\n",
    "\n",
    "qual['Mimag quality'] = qual.apply(mimag_qual, axis=1)\n",
    "qual"
   ]
  },
  {
   "cell_type": "markdown",
   "metadata": {},
   "source": [
    "## How many genomes are low quality"
   ]
  },
  {
   "cell_type": "code",
   "execution_count": null,
   "metadata": {},
   "outputs": [],
   "source": [
    "print(f\"There are {gtdb[gtdb['mimag_low_quality']=='t'].shape[0]} low quality genomes in GTDB\")\n",
    "print(f\"There are {qual[qual['Mimag quality'] == 'Low'].shape[0]} low quality genomes in qual\")"
   ]
  },
  {
   "cell_type": "code",
   "execution_count": null,
   "metadata": {},
   "outputs": [],
   "source": [
    "print(f\"There are {gtdb.shape[0]:,} genomes in GTDB and {phagesdf.shape[0]:,} genomes in phages, but {qual.shape[0]:,} genomes in both\")"
   ]
  },
  {
   "cell_type": "code",
   "execution_count": null,
   "metadata": {},
   "outputs": [],
   "source": [
    "qual.groupby('Mimag quality').agg('size')"
   ]
  },
  {
   "cell_type": "code",
   "execution_count": null,
   "metadata": {},
   "outputs": [],
   "source": [
    "fig, ax = plt.subplots(1,2, figsize=(11.7,8.27))\n",
    "\n",
    "sns.violinplot(x='Mimag quality', y='Total Predicted Prophages', jitter=True, data=qual, ax=ax[0], order=['Unknown', 'Low', 'Medium', 'High'])\n",
    "#sns.stripplot(x='Mimag quality', y='Total Predicted Prophages',  jitter=True, data=qual, alpha=0.1, ax=ax[0], color='k')\n",
    "\n",
    "sns.violinplot(x='Mimag quality', y='Kept', jitter=True, data=qual, ax=ax[1], order=['Unknown', 'Low', 'Medium', 'High'])\n",
    "#sns.stripplot(x='Mimag quality', y='Kept',  jitter=True, data=qual, color='k', alpha=0.1, ax=ax[1])\n",
    "ax[1].set_ylabel(\"Total Kept Prophages\")\n",
    "\n",
    "for n, a in enumerate(ax):\n",
    "    a.text(-0.05, 1.05, string.ascii_uppercase[n], transform=a.transAxes, size=20, weight='bold')\n",
    "\n",
    "plt.show()\n"
   ]
  },
  {
   "cell_type": "code",
   "execution_count": null,
   "metadata": {},
   "outputs": [],
   "source": [
    "fig, ax = plt.subplots(1,1, figsize=(11.7,8.27))\n",
    "\n",
    "#sns.violinplot(x='Mimag quality', y='Kept', jitter=True, data=qual, ax=ax, order=['Unknown', 'Medium', 'High'])\n",
    "sns.boxplot(x='Mimag quality', y='Kept', data=qual, ax=ax, order=['Unknown', 'Medium', 'High'])\n",
    "#sns.stripplot(x='Mimag quality', y='Kept',  jitter=True, data=qual, color='k', alpha=0.1, ax=ax)\n",
    "ax.set_ylabel(\"Total Predicted Prophages\")\n",
    "xt=\"Genome Quality (MIMAG) from GTDB\\n(Note there are only 15 low quality genomes. Not shown)\"\n",
    "ax.set_xlabel(xt)\n",
    "\n",
    "\n",
    "ax.spines['top'].set_color('none')\n",
    "ax.spines['right'].set_color('none')\n",
    "plt.tight_layout()\n",
    "\n",
    "fig.savefig('images/mimag_phages_box.png')\n",
    "fig.savefig('images/mimag_phages_box.svg')\n",
    "\n",
    "plt.show()"
   ]
  },
  {
   "cell_type": "code",
   "execution_count": null,
   "metadata": {},
   "outputs": [],
   "source": [
    "fig, ax = plt.subplots(1,1, figsize=(11.7,8.27))\n",
    "\n",
    "sns.violinplot(x='Mimag quality', y='Kept', jitter=True, data=qual, ax=ax, order=['Unknown', 'Medium', 'High'])\n",
    "#sns.stripplot(x='Mimag quality', y='Kept',  jitter=True, data=qual, color='k', alpha=0.1, ax=ax)\n",
    "ax.set_ylabel(\"Total Predicted Prophages\")\n",
    "xt=\"Genome Quality (MIMAG) from GTDB\\n(Note there are only 15 low quality genomes. Not shown)\"\n",
    "ax.set_xlabel(xt)\n",
    "\n",
    "\n",
    "ax.spines['top'].set_color('none')\n",
    "ax.spines['right'].set_color('none')\n",
    "plt.tight_layout()\n",
    "\n",
    "fig.savefig('images/mimag_phages_violin.png')\n",
    "fig.savefig('images/mimag_phages_violin.svg')\n",
    "\n",
    "plt.show()"
   ]
  },
  {
   "cell_type": "markdown",
   "metadata": {},
   "source": [
    "### How does completeness/size compare with predictions?"
   ]
  },
  {
   "cell_type": "code",
   "execution_count": null,
   "metadata": {},
   "outputs": [],
   "source": [
    "fig, ax = plt.subplots(1,2, figsize=(11.7,8.27))\n",
    "\n",
    "sns.scatterplot(x='checkm_completeness', y='Total Predicted Prophages', data=qual, marker='+', color='k', ax=ax[0])\n",
    "sns.scatterplot(x='checkm_completeness', y='Kept', data=qual, marker='o', facecolors='none', edgecolor='k', ax=ax[1])\n",
    "# ax2.grid(False)\n",
    "ax[1].set_ylabel('Number of Kept Prophages (o)')\n",
    "ax[0].set_ylabel('Total Predicted Prophages (+)')\n",
    "ax[0].set_xlabel('CheckM Completeness')\n",
    "ax[1].set_xlabel('CheckM Completeness')\n",
    "ax[0].axhline(y=0, color='darkgrey')\n",
    "ax[1].axhline(y=0, color='darkgrey')\n",
    "\n",
    "for n, a in enumerate(ax):\n",
    "    a.text(-0.05, 1.05, string.ascii_uppercase[n], transform=a.transAxes, size=20, weight='bold')"
   ]
  },
  {
   "cell_type": "code",
   "execution_count": null,
   "metadata": {},
   "outputs": [],
   "source": [
    "fig, ax = plt.subplots(1,1, figsize=(11.7,8.27))\n",
    "\n",
    "sns.scatterplot(x='checkm_completeness', y='Kept', data=qual, marker='o', facecolors='none', edgecolor='k', ax=ax)\n",
    "ax.set_ylabel('Number of Kept Prophages (o)')\n",
    "ax.set_xlabel('CheckM Completeness')\n",
    "ax.axhline(y=0, color='darkgrey')\n",
    "\n",
    "fig.savefig(\"images/checkm_vs_phages.svg\")"
   ]
  },
  {
   "cell_type": "code",
   "execution_count": null,
   "metadata": {},
   "outputs": [],
   "source": [
    "fig, ax = plt.subplots(1,2, figsize=(11.7,8.27))\n",
    "\n",
    "sns.scatterplot(x='contig_count', y='Total Predicted Prophages', data=qual, marker='+', ax=ax[0], color='k')\n",
    "sns.scatterplot(x='contig_count', y='Kept', data=qual, marker='o', facecolors='none', edgecolor='k', ax=ax[1])\n",
    "\n",
    "ax[1].set_ylabel('Number of Kept Prophages (o)')\n",
    "ax[0].set_ylabel('Total Predicted Prophages (+)')\n",
    "ax[0].set_xlabel('Number of Contigs')\n",
    "ax[1].set_xlabel('Number of Contigs')\n",
    "ax[0].axhline(y=0, color='darkgrey')\n",
    "ax[0].axvline(x=0, color='darkgrey')\n",
    "ax[1].axhline(y=0, color='darkgrey')\n",
    "ax[1].axvline(x=0, color='darkgrey')\n",
    "\n",
    "for n, a in enumerate(ax):\n",
    "    a.text(-0.05, 1.05, string.ascii_uppercase[n], transform=a.transAxes, size=20, weight='bold')\n",
    "\n",
    "fig.savefig(\"images/contigs_vs_phages.svg\")\n"
   ]
  },
  {
   "cell_type": "code",
   "execution_count": null,
   "metadata": {},
   "outputs": [],
   "source": [
    "fig, ax = plt.subplots(1,2, figsize=(11.7,8.27))\n",
    "\n",
    "sns.scatterplot(x='contig_count', y='Total Predicted Prophages', data=qual, marker='+', ax=ax[0], color='k')\n",
    "sns.scatterplot(x='contig_count', y='Kept', data=qual, marker='o', facecolors='none', edgecolor='k', ax=ax[1])\n",
    "ax[0].set_xlim(-1,200)\n",
    "ax[1].set_xlim(-1,200)\n",
    "ax[1].set_ylabel('Number of Kept Prophages (o)')\n",
    "ax[0].set_ylabel('Total Predicted Prophages (+)')\n",
    "ax[0].set_xlabel('Number of Contigs')\n",
    "ax[1].set_xlabel('Number of Contigs')\n",
    "ax[0].axhline(y=0, color='darkgrey')\n",
    "ax[0].axvline(x=0, color='darkgrey')\n",
    "ax[1].axhline(y=0, color='darkgrey')\n",
    "ax[1].axvline(x=0, color='darkgrey')\n",
    "\n",
    "\n",
    "for n, a in enumerate(ax):\n",
    "    a.text(-0.05, 1.05, string.ascii_uppercase[n], transform=a.transAxes, size=20, weight='bold')\n",
    "\n",
    "fig.savefig(\"images/contigs_vs_phages_0200.svg\")"
   ]
  },
  {
   "cell_type": "markdown",
   "metadata": {},
   "source": [
    "At the moment there doesn't seem to be an obvious reason to cut or cull any of these predictions!"
   ]
  },
  {
   "cell_type": "markdown",
   "metadata": {},
   "source": [
    "# Compare CheckM and CheckV\n",
    "\n",
    "See if high/medium/low phage genomes correlate with other predictions?\n",
    "\n",
    "See the `checkv` workbook on how to do this... needs abstracting to a method DO NOT COPY THIS!"
   ]
  },
  {
   "cell_type": "code",
   "execution_count": null,
   "metadata": {},
   "outputs": [],
   "source": [
    "checkv = read_checkv()\n",
    "base_pp = read_base_pp()\n",
    "checkvb = pd.merge(base_pp, checkv, on='Prophage', how='inner')\n",
    "acv = checkvb.groupby(['assembly_accession', 'checkv_quality']).agg({'checkv_quality': 'size'})\n",
    "acvr = acv.rename({'checkv_quality':'checkv_count'}, axis=1).reset_index()\n",
    "tmp = acvr[acvr['checkv_quality'] == 'Not-determined'][['assembly_accession', 'checkv_count']].rename({'checkv_count' : 'Not-determined'}, axis=1)\n",
    "for t in ['Low-quality', 'Medium-quality', 'High-quality', 'Complete']:\n",
    "    tmp2 = acvr[acvr['checkv_quality'] == t][['assembly_accession', 'checkv_count']].rename({'checkv_count' : t}, axis=1)\n",
    "    tmp = pd.merge(tmp, tmp2, on='assembly_accession', how='outer')\n",
    "checkvcounts = tmp.fillna(0)\n",
    "checkvcounts"
   ]
  },
  {
   "cell_type": "code",
   "execution_count": null,
   "metadata": {},
   "outputs": [],
   "source": [
    "checkmv = pd.merge(qual[['assembly_accession', 'checkm_completeness', 'Kept', 'Mimag quality']], checkvcounts, on='assembly_accession', how='inner')\n",
    "checkmv['checkm_round'] = round(checkmv['checkm_completeness'],0)\n",
    "checkmv"
   ]
  },
  {
   "cell_type": "code",
   "execution_count": null,
   "metadata": {},
   "outputs": [],
   "source": [
    "fig, ax = plt.subplots(1,1, figsize=(11.7,8.27))\n",
    "for c in ['Not-determined', 'Low-quality', 'Medium-quality', 'High-quality']:\n",
    "    sns.scatterplot(x='checkm_completeness', y=c, data=checkmv, marker='o', ax=ax, label=c, alpha=0.6)\n",
    "\n",
    "#sns.lineplot(x='checkm_round', y='Kept', data=checkmv, color='k', ax=ax, label='All predictions', alpha=0.6)\n",
    "\n",
    "ax.set_ylabel('Number of prophages')\n",
    "ax.set_xlabel('Genome Completeness (CheckM)')\n",
    "ax.spines['bottom'].set_position('zero')\n",
    "#ax.spines['left'].set_position('zero')\n",
    "\n",
    "ax.spines['top'].set_color('none')\n",
    "ax.spines['right'].set_color('none')\n",
    "\n",
    "\n",
    "plt.tight_layout()\n",
    "l = plt.legend(title=\"Prophage Quality (CheckV)\", bbox_to_anchor=(1.05, 1), loc=2, borderaxespad=0.)\n",
    "\n",
    "fig.savefig('images/checkm_checkv.png')\n",
    "fig.savefig('images/checkm_checkv.svg')\n"
   ]
  },
  {
   "cell_type": "code",
   "execution_count": null,
   "metadata": {},
   "outputs": [],
   "source": [
    "fig, ax = plt.subplots(1,1, figsize=(11.7,8.27))\n",
    "for c in ['Not-determined', 'Low-quality', 'Medium-quality', 'High-quality']:\n",
    "    sns.lineplot(x='checkm_round', y=c, data=checkmv, ax=ax, label=c, alpha=0.6)\n",
    "\n",
    "ax2 = ax.twinx()\n",
    "sns.lineplot(x='checkm_round', y='Kept', data=checkmv, color='k', ax=ax2, label='All predictions', alpha=0.6)\n",
    "\n",
    "ax.set_ylabel('Number of prophages')\n",
    "ax.set_xlabel('Genome Completeness (CheckM)')\n",
    "ax.spines['bottom'].set_position('zero')\n",
    "#ax.spines['left'].set_position('zero')\n",
    "\n",
    "ax.spines['top'].set_color('none')\n",
    "ax.spines['right'].set_color('none')\n",
    "\n",
    "\n",
    "plt.tight_layout()\n",
    "l = plt.legend(bbox_to_anchor=(1.05, 1), loc=2, borderaxespad=0.)\n",
    "l.set_title(\"Prophage Quality (CheckV)\")"
   ]
  },
  {
   "cell_type": "markdown",
   "metadata": {},
   "source": [
    "# Taxonomy\n",
    "\n",
    "Extract the taxonomy from the GTDB table"
   ]
  },
  {
   "cell_type": "code",
   "execution_count": null,
   "metadata": {},
   "outputs": [],
   "source": [
    "tc = ['domain', 'phylum', 'class', 'order', 'family', 'genus', 'species']\n",
    "gc = ['accession', 'gtdb_genome_representative', 'gtdb_representative', 'gtdb_taxonomy', 'gtdb_type_designation', 'gtdb_type_designation_sources', 'gtdb_type_species_of_genus']\n",
    "gtdbex = pd.concat([gtdb[acccol], gtdb[tc], gtdb[gc]], axis=1)\n",
    "gtdbex"
   ]
  },
  {
   "cell_type": "markdown",
   "metadata": {},
   "source": [
    "### Do we need to combine to different levels\n",
    "\n",
    "We can combined e.g. from Bacteria to Order. But do we need to?"
   ]
  },
  {
   "cell_type": "code",
   "execution_count": null,
   "metadata": {},
   "outputs": [],
   "source": [
    "toorder = len(pd.unique(gtdbex.apply(lambda x: '_'.join(x[1:5].values.tolist()), axis=1)))\n",
    "uniqueorder = len(pd.unique(gtdbex['order']))\n",
    "print(f\"Unique orders: {uniqueorder} Unique to order: {toorder}\")"
   ]
  },
  {
   "cell_type": "markdown",
   "metadata": {},
   "source": [
    "[According to Donovan, they should be unique](https://forum.gtdb.ecogenomic.org/t/uniqueness-of-names-across-the-taxonomy/137) so we don't need to merge the columns! "
   ]
  },
  {
   "cell_type": "markdown",
   "metadata": {},
   "source": [
    "## Merge the data frames\n",
    "\n",
    "Merge the GTDB taxonomy with the prophage counts into a single df"
   ]
  },
  {
   "cell_type": "code",
   "execution_count": null,
   "metadata": {},
   "outputs": [],
   "source": [
    "cvtax = pd.merge(gtdbex[['assembly_accession', 'domain', 'phylum', 'class', 'order', 'family', 'genus', 'species']], checkvcounts, on='assembly_accession', how='inner')\n",
    "cvtax = pd.merge(cvtax, phagesdf[['assembly_accession', 'No phage genes', 'Kept']], on='assembly_accession', how='inner')\n",
    "cvtax"
   ]
  },
  {
   "cell_type": "code",
   "execution_count": null,
   "metadata": {},
   "outputs": [],
   "source": [
    "tdf = pd.DataFrame(cvtax.groupby('genus')['Kept'].agg(sum)).reset_index()\n",
    "tdf"
   ]
  },
  {
   "cell_type": "code",
   "execution_count": null,
   "metadata": {},
   "outputs": [],
   "source": [
    "tdf[tdf['genus'] == 'Bacteroides']"
   ]
  },
  {
   "cell_type": "code",
   "execution_count": null,
   "metadata": {},
   "outputs": [],
   "source": [
    "for c in ['Not-determined', 'Low-quality', 'Medium-quality', 'High-quality']:\n",
    "    print(cvtax[c].mean())"
   ]
  },
  {
   "cell_type": "markdown",
   "metadata": {},
   "source": [
    "### Make a plot\n",
    "\n",
    "This makes a plot of the data, and sets the labels to be readable."
   ]
  },
  {
   "cell_type": "code",
   "execution_count": null,
   "metadata": {},
   "outputs": [],
   "source": [
    "phsum = cvtax.groupby('phylum').agg('sum').reset_index()\n",
    "phsum.sort_values(ascending=False, by='Kept')"
   ]
  },
  {
   "cell_type": "markdown",
   "metadata": {},
   "source": [
    "### Distribution of prophages in different phyla\n"
   ]
  },
  {
   "cell_type": "code",
   "execution_count": null,
   "metadata": {},
   "outputs": [],
   "source": [
    "phsum[phsum['Kept'] < 5].sort_values(ascending=False, by='Kept').shape"
   ]
  },
  {
   "cell_type": "code",
   "execution_count": null,
   "metadata": {},
   "outputs": [],
   "source": []
  },
  {
   "cell_type": "code",
   "execution_count": null,
   "metadata": {},
   "outputs": [],
   "source": [
    "phsum.sort_values(ascending=False, by='Kept').head(25)"
   ]
  },
  {
   "cell_type": "code",
   "execution_count": null,
   "metadata": {},
   "outputs": [],
   "source": [
    "fig, ax = plt.subplots(1,1, figsize=(23.4,16.54))\n",
    "sns.barplot(x='phylum', y='Kept', data=phsum.sort_values(ascending=False, by='Kept'), ax=ax, label=c, color=sns.color_palette(\"colorblind\")[0])\n",
    "\n",
    "# get the tick labels and change some parameters about them.\n",
    "ticks_loc = ax.get_xticklabels()\n",
    "l = ax.set_xticklabels(ticks_loc, rotation=45, horizontalalignment='right', fontsize=12)\n",
    "\n",
    "ax.get_yaxis().set_major_formatter(FuncFormatter(lambda x,p: format(int(x), ',')))\n",
    "                                   \n",
    "#ax.set_title(f\"Total number of prophages per phyla\")\n",
    "\n",
    "# add a slight offset for every other tick label\n",
    "\n",
    "\"\"\"\n",
    "for alab in l[::2]:\n",
    "    x, y = alab.get_position()\n",
    "    alab.set_position((x, y-0.01))\n",
    "\"\"\"\n",
    "\n",
    "ax.grid(False)\n",
    "\n",
    "ax.spines['top'].set_color('none')\n",
    "ax.spines['right'].set_color('none')\n",
    "\n",
    "\n",
    "# turn off the ticks themselves\n",
    "ax.tick_params(length=0, pad=0)\n",
    "ax.set_ylabel('Total number of prophages per phylum')\n",
    "plt.tight_layout()\n",
    "fig.savefig('images/phylaTotal.png')\n",
    "fig.savefig('images/phylaTotal.svg')"
   ]
  },
  {
   "cell_type": "code",
   "execution_count": null,
   "metadata": {},
   "outputs": [],
   "source": [
    "fig, ax = plt.subplots(1,1, figsize=(23.4,16.54))\n",
    "sns.barplot(x='phylum', y='Kept', data=phsum.sort_values(ascending=False, by='Kept'), ax=ax, label=c, color=sns.color_palette(\"colorblind\")[0])\n",
    "\n",
    "# get the tick labels and change some parameters about them.\n",
    "#ticks_loc = ax.get_xticklabels()\n",
    "ticks_loc = ['|' for x in ax.get_xticklabels()]\n",
    "l = ax.set_xticklabels(ticks_loc, horizontalalignment='right', fontsize=12)\n",
    "\n",
    "ax.set_yticklabels(ax.get_yticklabels(), fontsize=48)\n",
    "ax.get_yaxis().set_major_formatter(FuncFormatter(lambda x,p: format(int(x), ',')))\n",
    "                                   \n",
    "#ax.set_title(f\"Total number of prophages per phyla\")\n",
    "\n",
    "# add a slight offset for every other tick label\n",
    "\n",
    "\"\"\"\n",
    "for alab in l[::2]:\n",
    "    x, y = alab.get_position()\n",
    "    alab.set_position((x, y-0.01))\n",
    "\"\"\"\n",
    "\n",
    "\"\"\"\n",
    "ax.grid(False)\n",
    "ax.xaxis.grid(True, which=\"major\")\n",
    "\"\"\"\n",
    "\n",
    "\n",
    "ax.spines['top'].set_color('none')\n",
    "ax.spines['right'].set_color('none')\n",
    "\n",
    "\n",
    "# turn off the ticks themselves\n",
    "ax.tick_params(length=0, pad=0)\n",
    "ax.set_ylabel('Total number of prophages per phylum', fontsize=48)\n",
    "ax.set_xlabel('96 different phyla', fontsize=48)\n",
    "plt.tight_layout()\n",
    "#fig.savefig('images/phylaTotalNoLabelsLargeFont.png')\n",
    "fig.savefig('images/phylaTotalNoLabelsLargeFont.svg')"
   ]
  },
  {
   "cell_type": "code",
   "execution_count": null,
   "metadata": {},
   "outputs": [],
   "source": [
    "phsum.sort_values(ascending=False, by='Kept')[0:10]"
   ]
  },
  {
   "cell_type": "code",
   "execution_count": null,
   "metadata": {},
   "outputs": [],
   "source": [
    "fig, ax = plt.subplots(1,1, figsize=(23.4,16.54))\n",
    "sns.barplot(x='phylum', y='Kept', data=phsum.sort_values(ascending=False, by='Kept')[0:10], ax=ax, label=c, color=sns.color_palette(\"colorblind\")[0])\n",
    "\n",
    "# get the tick labels and change some parameters about them.\n",
    "ticks_loc = ax.get_xticklabels()\n",
    "ax.set_yticklabels(ax.get_yticklabels(), fontsize=24)\n",
    "l = ax.set_xticklabels(ticks_loc, rotation=45, horizontalalignment='right', fontsize=48)\n",
    "\n",
    "ax.get_yaxis().set_major_formatter(FuncFormatter(lambda x,p: format(int(x), ',')))\n",
    "                                   \n",
    "#ax.set_title(f\"Total number of prophages per phyla (phyla with >500 prophages)\", fontsize=24)\n",
    "\n",
    "# add a slight offset for every other tick label\n",
    "\n",
    "\"\"\"\n",
    "for alab in l[::2]:\n",
    "    x, y = alab.get_position()\n",
    "    alab.set_position((x, y-0.01))\n",
    "\"\"\"\n",
    "\n",
    "ax.grid(False)\n",
    "\n",
    "ax.spines['top'].set_color('none')\n",
    "ax.spines['right'].set_color('none')\n",
    "\n",
    "# turn off the ticks themselves\n",
    "ax.tick_params(length=0, pad=0)\n",
    "ax.set_ylabel('Total number of prophages per phylum', fontsize=48)\n",
    "#ax.set_xlabel('Phyla', fontsize=48)\n",
    "plt.tight_layout()\n",
    "#fig.savefig('images/phylaTotal_top10LargeFont.png')\n",
    "fig.savefig('images/phylaTotal_top10LargeFont.svg')"
   ]
  },
  {
   "cell_type": "code",
   "execution_count": null,
   "metadata": {},
   "outputs": [],
   "source": [
    "fig, ax = plt.subplots(1,1, figsize=(23.4,16.54))\n",
    "sns.barplot(x='phylum', y='Kept', data=phsum[phsum['Kept']>450].sort_values(ascending=False, by='Kept'), ax=ax, label=c, color=sns.color_palette(\"colorblind\")[0])\n",
    "\n",
    "# get the tick labels and change some parameters about them.\n",
    "ticks_loc = ax.get_xticklabels()\n",
    "ax.set_yticklabels(ax.get_yticklabels(), fontsize=24)\n",
    "l = ax.set_xticklabels(ticks_loc, rotation=45, horizontalalignment='right', fontsize=24)\n",
    "\n",
    "ax.get_yaxis().set_major_formatter(FuncFormatter(lambda x,p: format(int(x), ',')))\n",
    "                                   \n",
    "#ax.set_title(f\"Total number of prophages per phyla (phyla with >500 prophages)\", fontsize=24)\n",
    "\n",
    "# add a slight offset for every other tick label\n",
    "\n",
    "\"\"\"\n",
    "for alab in l[::2]:\n",
    "    x, y = alab.get_position()\n",
    "    alab.set_position((x, y-0.01))\n",
    "\"\"\"\n",
    "\n",
    "ax.grid(False)\n",
    "\n",
    "ax.spines['top'].set_color('none')\n",
    "ax.spines['right'].set_color('none')\n",
    "\n",
    "# turn off the ticks themselves\n",
    "ax.tick_params(length=0, pad=0)\n",
    "ax.set_ylabel('Total number of prophages per phylum', fontsize=24)\n",
    "ax.set_xlabel('Phylum', fontsize=24)\n",
    "plt.tight_layout()\n",
    "fig.savefig('images/phylaTotal_top500.png')\n",
    "fig.savefig('images/phylaTotal_top500.svg')"
   ]
  },
  {
   "cell_type": "code",
   "execution_count": null,
   "metadata": {},
   "outputs": [],
   "source": [
    "tx = \"**Fig. S\\*\\* Phages predicted per bacterial phyla.** Most of the predictions are from\"\n",
    "for idx, row in cvtax.groupby('phylum').sum().sort_values(by='Kept', ascending=False).head(5).iterrows():\n",
    "    tx += f\" {idx} ({int(row['Kept']):,} phages),\"\n",
    "printmd(tx)\n"
   ]
  },
  {
   "cell_type": "markdown",
   "metadata": {},
   "source": [
    "## What about the kept/No phage genes?\n",
    "\n",
    "The \"No phage genes\" column represents those cases where we are unable to find a homolog in the databases. Do we see more of those in the unkown genomes than the known genomes?"
   ]
  },
  {
   "cell_type": "code",
   "execution_count": null,
   "metadata": {},
   "outputs": [],
   "source": [
    "phsum['npgp'] = phsum['No phage genes']/(phsum['No phage genes'] + phsum['Kept'])\n",
    "phsum"
   ]
  },
  {
   "cell_type": "code",
   "execution_count": null,
   "metadata": {},
   "outputs": [],
   "source": [
    "fig, ax = plt.subplots(1,1, figsize=(23.4,16.54))\n",
    "sns.barplot(x='phylum', y='npgp', data=phsum[phsum['npgp']>0.75].sort_values(ascending=False, by='npgp'), ax=ax, label=c, color=sns.color_palette(\"colorblind\")[0])\n",
    "\n",
    "# get the tick labels and change some parameters about them.\n",
    "ticks_loc = ax.get_xticklabels()\n",
    "ax.set_yticklabels(ax.get_yticklabels(), fontsize=24)\n",
    "l = ax.set_xticklabels(ticks_loc, rotation=45, horizontalalignment='right', fontsize=24)\n",
    "\n",
    "ax.get_yaxis().set_major_formatter(FuncFormatter(lambda x,p: format(int(x), ',')))\n",
    "                                   \n",
    "#ax.set_title(f\"Total number of prophages per phyla (phyla with >500 prophages)\", fontsize=24)\n",
    "\n",
    "# add a slight offset for every other tick label\n",
    "\n",
    "\"\"\"\n",
    "for alab in l[::2]:\n",
    "    x, y = alab.get_position()\n",
    "    alab.set_position((x, y-0.01))\n",
    "\"\"\"\n",
    "\n",
    "ax.grid(False)\n",
    "\n",
    "ax.spines['top'].set_color('none')\n",
    "ax.spines['right'].set_color('none')\n",
    "\n",
    "# turn off the ticks themselves\n",
    "ax.tick_params(length=0, pad=0)\n",
    "ax.set_ylabel('Proportion of \"not enough gene\" regions', fontsize=24)\n",
    "ax.set_xlabel('Phylum', fontsize=24)\n",
    "plt.tight_layout()\n",
    "#fig.savefig('images/negp_0.5.png')\n",
    "#fig.savefig('images/negp_0.5.svg')"
   ]
  },
  {
   "cell_type": "code",
   "execution_count": null,
   "metadata": {},
   "outputs": [],
   "source": [
    "fig, ax = plt.subplots(1,1, figsize=(23.4,16.54))\n",
    "sns.barplot(x='phylum', y='npgp', data=phsum[phsum['npgp']>0.75].sort_values(ascending=False, by='npgp'), ax=ax, label=c, color=sns.color_palette(\"colorblind\")[0])\n",
    "\n",
    "# get the tick labels and change some parameters about them.\n",
    "ticks_loc = ax.get_xticklabels()\n",
    "ax.set_yticklabels(ax.get_yticklabels(), fontsize=24)\n",
    "l = ax.set_xticklabels(ticks_loc, rotation=45, horizontalalignment='right', fontsize=24)\n",
    "\n",
    "ax.get_yaxis().set_major_formatter(FuncFormatter(lambda x,p: format(int(x), ',')))\n",
    "                                   \n",
    "#ax.set_title(f\"Total number of prophages per phyla (phyla with >500 prophages)\", fontsize=24)\n",
    "\n",
    "# add a slight offset for every other tick label\n",
    "\n",
    "\"\"\"\n",
    "for alab in l[::2]:\n",
    "    x, y = alab.get_position()\n",
    "    alab.set_position((x, y-0.01))\n",
    "\"\"\"\n",
    "\n",
    "ax.grid(False)\n",
    "\n",
    "ax.spines['top'].set_color('none')\n",
    "ax.spines['right'].set_color('none')\n",
    "\n",
    "# turn off the ticks themselves\n",
    "ax.tick_params(length=0, pad=0)\n",
    "ax.set_ylabel('Proportion of \"not enough gene\" regions', fontsize=24)\n",
    "ax.set_xlabel('Phylum', fontsize=24)\n",
    "plt.tight_layout()\n",
    "#fig.savefig('images/negp_0.5.png')\n",
    "#fig.savefig('images/negp_0.5.svg')"
   ]
  },
  {
   "cell_type": "code",
   "execution_count": null,
   "metadata": {},
   "outputs": [],
   "source": [
    "fig, axes = plt.subplots(2,2, figsize=(23.4,16.54), sharey=True)\n",
    "\n",
    "col =  [['Not-determined', 'Low-quality'], ['Medium-quality', 'High-quality']]\n",
    "\n",
    "for i in 0, 1:\n",
    "    for j in 0, 1:\n",
    "        c = col[i][j]\n",
    "        ax = axes[i][j]\n",
    "        sns.barplot(x='phylum', y=c, data=cvtax, ax=ax, label=c, color=sns.color_palette(\"colorblind\")[(2*i) + j], estimator=sum)\n",
    "\n",
    "        # get the tick labels and change some parameters about them.\n",
    "        ticks_loc = ax.get_xticklabels()\n",
    "        l = ax.set_xticklabels(ticks_loc, rotation=90, horizontalalignment='center', fontsize=12)\n",
    "        # use this to hide every other tick\n",
    "        # [x.set_visible(False) for x in l[::2]]\n",
    "\n",
    "        ax.set_title(f\"CheckV {c.lower()} prophages per phyla\")\n",
    "        # add a slight offset for every other tick label\n",
    "        for alab in l[::2]:\n",
    "            x, y = alab.get_position()\n",
    "            alab.set_position((x, y-0.01))\n",
    "\n",
    "        # turn off the ticks themselves\n",
    "        ax.tick_params(length=0, pad=0)\n",
    "        ax.set_ylabel('Mean number of prophages per phylum')\n",
    "plt.tight_layout()\n",
    "fig.savefig('images/phyla.png')\n",
    "fig.savefig('images/phyla.svg')"
   ]
  },
  {
   "cell_type": "markdown",
   "metadata": {},
   "source": [
    "# Compared to isolate phages\n",
    "\n",
    "Please see the jupyter notebook `genbank_vs_prophage` for details on this.\n",
    "\n",
    "The genbank data comes from [the Cook et al paper](https://www.biorxiv.org/content/10.1101/2021.05.01.442102v1) and especially their [supplemental material](https://www.biorxiv.org/content/10.1101/2021.05.01.442102v1.supplementary-material)\n",
    "\n",
    "```\n",
    "Cook R, Brown N, Redgwell T, Rihtman B, Barnes M, Stekel DJ, Clokie M, Hobman J, Jones M, Millard AD. 2021. INfrastructure for a PHAge REference Database: Identification of large-scale biases in the current collection of phage genomes. bioRxiv.\n",
    "```"
   ]
  },
  {
   "cell_type": "code",
   "execution_count": null,
   "metadata": {},
   "outputs": [],
   "source": [
    "isolate_hosts = set()\n",
    "with open('../data/Cook_unique_hosts.txt', 'r') as h:\n",
    "    for l in h:\n",
    "        if l.strip():\n",
    "            isolate_hosts.add(l.strip())\n",
    "isolate_phyla = {}\n",
    "for h in isolate_hosts:\n",
    "    phuq = pd.unique(gtdb[gtdb['genus'] == h]['phylum'])\n",
    "    if len(phuq):\n",
    "        for ph in phuq:\n",
    "            isolate_phyla[ph] = isolate_phyla.get(ph, 0)+1\n",
    "    else:\n",
    "        isolate_phyla[\"unknown\"] = isolate_phyla.get(\"unknown\", 0)+1\n",
    "isolate_phyla"
   ]
  },
  {
   "cell_type": "markdown",
   "metadata": {},
   "source": [
    "### Phyla for which we do not have isolated phages"
   ]
  },
  {
   "cell_type": "code",
   "execution_count": null,
   "metadata": {},
   "outputs": [],
   "source": [
    "for p in pd.unique(phsum[phsum['Kept']>0]['phylum'].sort_values()):\n",
    "    if p not in isolate_phyla:\n",
    "        print(p)\n"
   ]
  },
  {
   "cell_type": "code",
   "execution_count": null,
   "metadata": {},
   "outputs": [],
   "source": [
    "for p in phsum[phsum['Kept']>0]:\n",
    "    print(p)\n",
    "    if p['phylum'] not in isolate_phyla:\n",
    "        print(p)\n"
   ]
  },
  {
   "cell_type": "markdown",
   "metadata": {},
   "source": [
    "## What are some of the weird ones"
   ]
  },
  {
   "cell_type": "code",
   "execution_count": null,
   "metadata": {},
   "outputs": [],
   "source": [
    "gtdb[gtdb['phylum'] == 'Firmicutes_C']"
   ]
  },
  {
   "cell_type": "code",
   "execution_count": null,
   "metadata": {},
   "outputs": [],
   "source": [
    "gtdb"
   ]
  },
  {
   "cell_type": "code",
   "execution_count": null,
   "metadata": {},
   "outputs": [],
   "source": []
  },
  {
   "cell_type": "markdown",
   "metadata": {},
   "source": []
  },
  {
   "cell_type": "code",
   "execution_count": null,
   "metadata": {},
   "outputs": [],
   "source": []
  },
  {
   "cell_type": "code",
   "execution_count": null,
   "metadata": {},
   "outputs": [],
   "source": []
  },
  {
   "cell_type": "code",
   "execution_count": null,
   "metadata": {},
   "outputs": [],
   "source": []
  },
  {
   "cell_type": "code",
   "execution_count": null,
   "metadata": {},
   "outputs": [],
   "source": []
  },
  {
   "cell_type": "markdown",
   "metadata": {},
   "source": [
    "\n",
    "<div style=\"background-color:lightyellow\">\n",
    "\n",
    "    \n",
    "<h1>Statistical Analyses</h1>\n",
    "    \n",
    "\n",
    "Some stats on the number of prophages per taxonomic classification\n",
    "    </div>"
   ]
  },
  {
   "cell_type": "markdown",
   "metadata": {},
   "source": [
    "# Effect Size Calculations\n",
    "\n",
    "Our datasets are so large that even small effect sizes may have statistically significant differences. There is lots of discussion about this, for example see these posts and articles:\n",
    "\n",
    "* [Effect size, confidence interval and statistical significance: a practical guide for biologists](https://people.kth.se/~lang/Effect_size.pdf)\n",
    "* [It's the Effect Size, Stupid! What effect size is and why it is important](http://www.leeds.ac.uk/educol/documents/00002182.htm)\n",
    "* [Large scale statistical analysis discussion on stats stackexchange](https://stats.stackexchange.com/questions/7815/what-skills-are-required-to-perform-large-scale-statistical-analyses)\n",
    "* [Large data sets and hypothesis testing](https://stats.stackexchange.com/questions/2516/are-large-data-sets-inappropriate-for-hypothesis-testing)\n",
    "* [The Dangers of Large Data Sets: A Tale of P values, Error Rates, and Bonferroni Corrections](https://thelogicofscience.com/2015/04/07/basic-statistics-part-3-the-dangers-of-large-data-sets-a-tale-of-p-values-error-rates-and-bonferroni-corrections/)\n",
    "* [The Unofficial Google Data Blog](http://www.unofficialgoogledatascience.com/2016/10/practical-advice-for-analysis-of-large.html)\n",
    "\n",
    "Because of these concerns, we include two measures of effect size.\n",
    "\n",
    "## Cohen's f<sup>2</sup>\n",
    "\n",
    "This is a measure of the effect size from the ANOVA:\n",
    "\n",
    "f<sup>2</sup> = &#x003B7;<sup>2</sup>/(1 - &#x003B7;<sup>2</sup>)\n",
    "\n",
    "This measures the combined effect size, and does not provide a pairwise comparison of the data.\n",
    "\n",
    "According to Cohen (1988; pg. 413; Chapter 9) the effect sizes are: \n",
    "\n",
    " * small effect size: f<sup>2</sup> = 0.02\n",
    " * medium effect size: f<sup>2</sup> = 0.15\n",
    " * large effect size: f<sup>2</sup> = 0.35\n",
    "\n",
    "See chapter 9 of [Cohen J. E. (1988). Statistical Power Analysis for the Behavioral Sciences. Hillsdale, NJ: Lawrence Erlbaum Associates, Inc](http://www.utstat.toronto.edu/~brunner/oldclass/378f16/readings/CohenPower.pdf)\n",
    "\n",
    "# Cohen's d\n",
    "\n",
    "This is a pairwise measure of the effect size, and can be used to compare our different groups or samples thereof.\n",
    "\n",
    "According to Cohen (1988; pg. 26; Chapter 2) the effect sizes are:\n",
    "\n",
    " * small effect size: d = 0.2\n",
    " * medium effect size: d = 0.5\n",
    " * large effect size: d = 0.8\n",
    " \n",
    "For a detailed exposition, see chapter 2 of [Cohen J. E. (1988). Statistical Power Analysis for the Behavioral Sciences. Hillsdale, NJ: Lawrence Erlbaum Associates, Inc](http://www.utstat.toronto.edu/~brunner/oldclass/378f16/readings/CohenPower.pdf)"
   ]
  },
  {
   "cell_type": "code",
   "execution_count": null,
   "metadata": {},
   "outputs": [],
   "source": [
    "def cohen_f(ssr,sse):\n",
    "    \"\"\"\n",
    "    Calculate Cohen's f-squared from the Sum of Squares of Regression (SSR)\n",
    "    and the Sum of Squares of Error (SSE).\n",
    "    \n",
    "    SSR is from the anova table as aov_table['sum_sq'][0]\n",
    "    SSE is from the anova table as aov_table['sum_sq'][1]\n",
    "    \"\"\"\n",
    "    \n",
    "    rsq = ssr / (ssr + sse) # R^2 = SSR/SST\n",
    "    return rsq / (1-rsq)\n",
    "\n",
    "def cohen_d(x,y):\n",
    "    nx = len(x)\n",
    "    ny = len(y)\n",
    "    dof = nx + ny - 2\n",
    "    d = (np.mean(x) - np.mean(y)) / np.sqrt(((nx-1)*np.std(x, ddof=1) ** 2 + (ny-1)*np.std(y, ddof=1) ** 2) / dof)\n",
    "    if np.isnan(d):\n",
    "        # sys.stderr.write(f\"{x} ~ {y} returned NaN\\n\")\n",
    "        return 0\n",
    "    return d"
   ]
  },
  {
   "cell_type": "markdown",
   "metadata": {},
   "source": [
    "# Make sure the data is the same.\n",
    "\n",
    "We are going to check the number of contigs, the number of basepairs"
   ]
  },
  {
   "cell_type": "code",
   "execution_count": null,
   "metadata": {},
   "outputs": [],
   "source": [
    "print(\"Phylum\\tMinimum number of prophages\\tMaximum number of prophages\\tMean number of prophages\\tMedian number of prophages\\tStandard deviation\")\n",
    "for p in sorted(pd.unique(cvtax['phylum'])):\n",
    "    d = cvtax[cvtax['phylum'] == p]\n",
    "    count = d.Kept.count()\n",
    "    m = d.Kept.min()\n",
    "    x = d.Kept.max()\n",
    "    n = round(d.Kept.mean(), 2)\n",
    "    e = round(d.Kept.median(), 2)\n",
    "    s = round(d.Kept.std(), 2)\n",
    "    if np.isnan(s):\n",
    "        s = \"\"\n",
    "    print(\"\\t\".join(map(str, [p, m, x, n, e, s])))"
   ]
  },
  {
   "cell_type": "markdown",
   "metadata": {},
   "source": [
    "# Anovas\n",
    "\n",
    "I've used two different ways to calculate the ANOVA. The first is using _scipy.stats_ function _f\\_oneway_ and the second is with statsmodels"
   ]
  },
  {
   "cell_type": "markdown",
   "metadata": {},
   "source": [
    "### Calculate the one-way anova for all the data\n",
    "\n",
    "Here, we group by _to_phylum_ and then compare the number of prophages in each group. Note that _group\\_by_ returns a tuple of the grouped by name and the dataframe for that group, so _names_ is an array of the names and has the same dimension as _samples_. The 2D array _samples_ has one dimension for each name and the other for the number of prophages for that name."
   ]
  },
  {
   "cell_type": "code",
   "execution_count": null,
   "metadata": {},
   "outputs": [],
   "source": [
    "samples = []\n",
    "names = []\n",
    "for nm, groupdf in cvtax.groupby('phylum'):\n",
    "    names.append(nm)\n",
    "    samples.append(groupdf['Kept'])\n",
    "f_val, p_val = f_oneway(*samples)\n",
    "print('F value: {:.3f}, p value: {:.3f}'.format(f_val, p_val))"
   ]
  },
  {
   "cell_type": "markdown",
   "metadata": {},
   "source": [
    "### Repeat for order\n",
    "\n",
    "Is there a significant difference in order"
   ]
  },
  {
   "cell_type": "code",
   "execution_count": null,
   "metadata": {},
   "outputs": [],
   "source": [
    "samples = []\n",
    "names = []\n",
    "for nm, groupdf in cvtax.groupby('order'):\n",
    "    names.append(nm)\n",
    "    samples.append(groupdf['Kept'])\n",
    "f_val, p_val = f_oneway(*samples)\n",
    "print('F value: {:.3f}, p value: {:.3f}'.format(f_val, p_val))"
   ]
  },
  {
   "cell_type": "markdown",
   "metadata": {},
   "source": [
    "### Using statsmodels\n",
    "\n",
    "Here we make a regression model on phylum.\n"
   ]
  },
  {
   "cell_type": "code",
   "execution_count": null,
   "metadata": {},
   "outputs": [],
   "source": [
    "mod = ols('Kept ~ phylum', data=cvtax).fit()\n",
    "aov_table = sm.stats.anova_lm(mod, typ=2)\n",
    "print(aov_table)\n",
    "print()\n",
    "printmd(\"Report as: *F*({}, {:,}) = {}, *p* = {}\".format(\n",
    "    int(aov_table.df['phylum']), \n",
    "    int(aov_table.df['Residual']),\n",
    "    round(aov_table.F['phylum'], 2),\n",
    "    round(aov_table.get(\"PR(>F)\")['phylum'], 4)\n",
    "))"
   ]
  },
  {
   "cell_type": "code",
   "execution_count": null,
   "metadata": {},
   "outputs": [],
   "source": [
    "mod = ols('Kept ~ order', data=cvtax).fit()\n",
    "aov_table = sm.stats.anova_lm(mod, typ=2)\n",
    "print(aov_table)\n",
    "print()\n",
    "printmd(\"Report as: *F*({}, {:,}) = {}, *p* = {}\".format(\n",
    "    int(aov_table.df['order']), \n",
    "    int(aov_table.df['Residual']),\n",
    "    round(aov_table.F['order'], 2),\n",
    "    round(aov_table.get(\"PR(>F)\")['order'], 4)\n",
    "))"
   ]
  },
  {
   "cell_type": "markdown",
   "metadata": {},
   "source": [
    "### Use Tukey's honestly significant difference test to compare the data\n",
    "\n",
    "This performs pairwise comparisons on our data. The NULL hypothesis is that there is no statistical difference in the means of the two samples. If we reject that NULL hypothesis (reject == True) then we have reason to believe that there is a significan difference in the means of the samples."
   ]
  },
  {
   "cell_type": "code",
   "execution_count": null,
   "metadata": {},
   "outputs": [],
   "source": [
    "rec = pairwise_tukeyhsd(cvtax['Kept'], cvtax['phylum'])\n",
    "print(rec)"
   ]
  },
  {
   "cell_type": "code",
   "execution_count": null,
   "metadata": {},
   "outputs": [],
   "source": [
    "tukeysres = pd.DataFrame(data=rec._results_table.data[1:], columns=rec._results_table.data[0])\n",
    "tukeysres[tukeysres['reject'] == True]"
   ]
  },
  {
   "cell_type": "markdown",
   "metadata": {},
   "source": [
    "## Effect size\n",
    "\n",
    "We measure the effect size of the group as a whole from the anova using Cohen's f<sup>2</sup> and pairwise using Cohen's d."
   ]
  },
  {
   "cell_type": "code",
   "execution_count": null,
   "metadata": {},
   "outputs": [],
   "source": [
    "phyla = pd.unique(cvtax['phylum'])\n",
    "for i, c in enumerate(phyla):\n",
    "    for j in range(i, len(phyla)):\n",
    "        d = phyla[j]\n",
    "        if c == d:\n",
    "            continue\n",
    "        print(\"Cohen's d for {} - {}: {}\".format(c, d, round(\n",
    "            cohen_d(\n",
    "                cvtax[cvtax['phylum'] == c]['Kept'], cvtax[cvtax['phylum'] == d]['Kept'], \n",
    "        ), 2)))"
   ]
  },
  {
   "cell_type": "markdown",
   "metadata": {},
   "source": [
    "Make the effect size into a table so we can make a heat map of it!"
   ]
  },
  {
   "cell_type": "code",
   "execution_count": null,
   "metadata": {},
   "outputs": [],
   "source": [
    "phyla = sorted(pd.unique(cvtax['phylum']))\n",
    "cohend = pd.DataFrame(index=phyla, columns=phyla)\n",
    "# now that we have created the dataframe, we need to coerce the columns to be numeric. \n",
    "for p in phyla:\n",
    "    cohend[p] = pd.to_numeric(cohend[p])\n",
    "\n",
    "for i, c in enumerate(phyla):\n",
    "    for j in range(i, len(phyla)):\n",
    "        d = phyla[j]\n",
    "        if c == d:\n",
    "            cohend.iloc[i, j] = 0\n",
    "            continue\n",
    "        cohend.iloc[i, j] = cohen_d(cvtax[cvtax['phylum'] == c]['Kept'], cvtax[cvtax['phylum'] == d]['Kept'])\n",
    "        cohend.iloc[j, i] = -cohend.iloc[i, j]\n",
    "\n"
   ]
  },
  {
   "cell_type": "code",
   "execution_count": null,
   "metadata": {},
   "outputs": [],
   "source": [
    "cohendnz = cohend.loc[(cohend.sum(axis=1) != 0), (cohend.sum(axis=0) != 0)]\n",
    "cohendnz"
   ]
  },
  {
   "cell_type": "code",
   "execution_count": null,
   "metadata": {},
   "outputs": [],
   "source": [
    "cohenclean = cohendnz.fillna(0).replace(np.inf, 1).replace(-np.inf, -1)\n",
    "cohenclean"
   ]
  },
  {
   "cell_type": "code",
   "execution_count": null,
   "metadata": {},
   "outputs": [],
   "source": [
    "fig, ax = plt.subplots(1,1, figsize=(23.4,16.54))\n",
    "# coolwarm is also a good color_palette\n",
    "sns.heatmap(cohend,  cmap=sns.color_palette(\"vlag\", as_cmap=True), ax=ax, xticklabels=1, yticklabels=1)\n",
    "\n",
    "lx = ax.xaxis.get_majorticklabels()\n",
    "for alab in lx[1::2]:\n",
    "    x, y = alab.get_position()\n",
    "    alab.set_position((x, y-0.01))\n",
    "\n",
    "ly = ax.yaxis.get_majorticklabels()\n",
    "for alab in ly[1::2]:\n",
    "    x, y = alab.get_position()\n",
    "    alab.set_position((x+0.01, y))\n",
    "    \n",
    "\n",
    "plt.tight_layout()"
   ]
  },
  {
   "cell_type": "code",
   "execution_count": null,
   "metadata": {},
   "outputs": [],
   "source": [
    "#fig, ax = plt.subplots(1,1, figsize=(23.4,16.54))\n",
    "\n",
    "# vlag is also a good color_palette\n",
    "# coolwarm is also a good color_palette\n",
    "# sns.heatmap(cohend,  cmap=sns.color_palette(\"vlag\", as_cmap=True), ax=ax, xticklabels=1, yticklabels=1)\n",
    "sns.set_theme(color_codes=True)\n",
    "ax = sns.clustermap(\n",
    "    cohenclean, \n",
    "    cmap=sns.color_palette(\"vlag\", as_cmap=True),\n",
    "    figsize=(23.4, 23.4),\n",
    ")\n",
    "\n",
    "\"\"\"\n",
    "# get the tick labels and change some parameters about them.\n",
    "xticks_loc = ax.get_xticklabels()\n",
    "lx = ax.set_xticklabels(xticks_loc, fontsize=10)\n",
    "# use this to hide every other tick\n",
    "#[x.set_visible(False) for x in lx[::2]]\n",
    "\n",
    "yticks_loc = ax.get_yticklabels()\n",
    "ly = ax.set_yticklabels(yticks_loc, fontsize=10)\n",
    "# use this to hide every other tick\n",
    "#[y.set_visible(False) for y in ly[1::2]]\n",
    "\n",
    "\n",
    "# add a slight offset for every other x tick label\n",
    "for alab in lx[1::4]:\n",
    "    x, y = alab.get_position()\n",
    "    alab.set_position((x, y-0.01))\n",
    "\n",
    "# add a slight offset for every other y tick label\n",
    "for alab in ly[2::4]:\n",
    "    x, y = alab.get_position()\n",
    "    alab.set_position((x-0.01, y))\n",
    "\n",
    "\n",
    "\"\"\"\n",
    "\n",
    "# plt.setp(ax.ax_heatmap.yaxis.get_majorticklabels(), rotation=45)\n",
    "\n",
    "lx = ax.ax_heatmap.xaxis.get_majorticklabels()\n",
    "for alab in lx[1::2]:\n",
    "    x, y = alab.get_position()\n",
    "    alab.set_position((x, y-0.01))\n",
    "\n",
    "ly = ax.ax_heatmap.yaxis.get_majorticklabels()\n",
    "for alab in ly[1::2]:\n",
    "    x, y = alab.get_position()\n",
    "    alab.set_position((x+0.01, y))\n",
    "    \n",
    "\n",
    "plt.tight_layout()\n",
    "plt.savefig('images/cohen_clustmap.png')\n",
    "plt.savefig('images/cohen_clustmap.svg')"
   ]
  },
  {
   "cell_type": "markdown",
   "metadata": {},
   "source": [
    "## Create a distance based on taxonomy"
   ]
  },
  {
   "cell_type": "code",
   "execution_count": null,
   "metadata": {},
   "outputs": [],
   "source": [
    "gtdbex"
   ]
  },
  {
   "cell_type": "code",
   "execution_count": null,
   "metadata": {},
   "outputs": [],
   "source": [
    "phyla = sorted(pd.unique(cvtax['phylum']))\n",
    "phyladist = pd.DataFrame(index=phyla, columns=phyla)\n",
    "# now that we have created the dataframe, we need to coerce the columns to be numeric. \n",
    "for p in phyla:\n",
    "    phyladist[p] = pd.to_numeric(phyladist[p])\n",
    "\n",
    "for i, c in enumerate(phyla):\n",
    "    for j in range(i, len(phyla)):\n",
    "        d = phyla[j]\n",
    "        if c == d:\n",
    "            cohend.iloc[i, j] = 0\n",
    "            continue\n",
    "        cohend.iloc[i, j] = cohen_d(cvtax[cvtax['phylum'] == c]['Kept'], cvtax[cvtax['phylum'] == d]['Kept'])\n",
    "        cohend.iloc[j, i] = -cohend.iloc[i, j]\n",
    "\n"
   ]
  }
 ],
 "metadata": {
  "kernelspec": {
   "display_name": "Python 3 (ipykernel)",
   "language": "python",
   "name": "python3"
  },
  "language_info": {
   "codemirror_mode": {
    "name": "ipython",
    "version": 3
   },
   "file_extension": ".py",
   "mimetype": "text/x-python",
   "name": "python",
   "nbconvert_exporter": "python",
   "pygments_lexer": "ipython3",
   "version": "3.9.5"
  }
 },
 "nbformat": 4,
 "nbformat_minor": 1
}
