{
 "cells": [
  {
   "cell_type": "markdown",
   "id": "e34e0c9c",
   "metadata": {},
   "source": [
    "# Compare nContigs vs nPhages\n",
    "\n",
    "The first parts of this are taken directly from Genbank, RAST, GTDB Jupyter notebook"
   ]
  },
  {
   "cell_type": "code",
   "execution_count": 1,
   "id": "2503b776",
   "metadata": {},
   "outputs": [],
   "source": [
    "# A lot of this is not used, but we import it so we have it later!\n",
    "import os\n",
    "import sys\n",
    "import matplotlib.pyplot as plt\n",
    "import matplotlib.ticker as mticker\n",
    "import pandas as pd\n",
    "import seaborn as sns\n",
    "import numpy as np\n",
    "\n",
    "import math\n",
    "import re\n",
    "\n",
    "from PhiSpyAnalysis import theils_u, DateConverter, printmd\n",
    "from PhiSpyAnalysis import read_phages, read_gtdb, read_checkv, read_base_pp, read_categories, read_metadata, read_gbk_metadata\n",
    "\n",
    "from scipy.stats import pearsonr, f_oneway\n",
    "from sklearn.linear_model import LinearRegression\n",
    "from sklearn import decomposition\n",
    "from sklearn.ensemble import RandomForestClassifier\n",
    "\n",
    "import statsmodels.api as sm\n",
    "from statsmodels.formula.api import ols\n",
    "from statsmodels.stats.multicomp import pairwise_tukeyhsd, tukeyhsd, MultiComparison\n",
    "from statsmodels.multivariate.manova import MANOVA\n",
    "\n",
    "\n",
    "import subprocess\n",
    "import gzip\n"
   ]
  },
  {
   "cell_type": "code",
   "execution_count": 2,
   "id": "3ba2c7d7",
   "metadata": {},
   "outputs": [],
   "source": [
    "rv = re.compile('^\\\\w+')\n",
    "def remove_ver(x):\n",
    "    return rv.search(str(x)).group()"
   ]
  },
  {
   "cell_type": "markdown",
   "id": "5814a06c",
   "metadata": {},
   "source": [
    "# GTDB, RAST, GenBank"
   ]
  },
  {
   "cell_type": "code",
   "execution_count": 3,
   "id": "617d2bdb",
   "metadata": {},
   "outputs": [
    {
     "name": "stderr",
     "output_type": "stream",
     "text": [
      "c:\\workspace\\edwa0468\\githubs\\phispyanalysis\\venv\\lib\\site-packages\\IPython\\core\\interactiveshell.py:3361: DtypeWarning: Columns (21) have mixed types.Specify dtype option on import or set low_memory=False.\n",
      "  if (await self.run_code(code, result,  async_=asy)):\n",
      "Please note that this was run with git commit e73598a that has 567,404 genomes parsed.\n",
      "Initially there were 3,265,453 kept phages, but after filtering we kept 3,265,453 prophages from 567,399 genomes"
     ]
    },
    {
     "data": {
      "text/plain": [
       "Total Predicted Prophages    21562059.0\n",
       "Not enough genes             15047785.0\n",
       "No phage genes                3248821.0\n",
       "Kept                          3265453.0\n",
       "dtype: float64"
      ]
     },
     "execution_count": 3,
     "metadata": {},
     "output_type": "execute_result"
    }
   ],
   "source": [
    "# GTDB\n",
    "gtdb = read_gtdb()\n",
    "gtdb['assembly_nover'] = gtdb['assembly_accession'].apply(remove_ver)\n",
    "gtdb[['assembly_accession', 'assembly_nover']]\n",
    "# RAST\n",
    "# the full data set. Don't try this at home!\n",
    "# metadf = pd.read_csv(\"../small_data/patric_genome_metadata.tsv.gz\", compression='gzip', header=0, delimiter=\"\\t\")\n",
    "rast = read_metadata()\n",
    "rast['assembly_nover'] = rast['assembly_accession'].apply(remove_ver)\n",
    "rast[['assembly_accession', 'assembly_nover']]\n",
    "# GenBank\n",
    "gbk = read_gbk_metadata()\n",
    "gbk['assembly_nover'] = gbk['assembly_accession'].apply(remove_ver)\n",
    "gbk[['assembly_accession', 'assembly_nover']]\n",
    "# Phages\n",
    "phagesdf = read_phages(maxcontigs=-1) # this disables contig length filtering\n",
    "phagesdf['assembly_nover'] = phagesdf['assembly_accession'].apply(remove_ver)\n",
    "phagesdf\n",
    "phagesdf[['Total Predicted Prophages', 'Not enough genes', 'No phage genes', 'Kept']].agg('sum')"
   ]
  },
  {
   "cell_type": "code",
   "execution_count": 8,
   "id": "ae3791f1",
   "metadata": {},
   "outputs": [
    {
     "data": {
      "text/plain": [
       "['accession',\n",
       " 'ambiguous_bases',\n",
       " 'checkm_completeness',\n",
       " 'checkm_contamination',\n",
       " 'checkm_marker_count',\n",
       " 'checkm_marker_lineage',\n",
       " 'checkm_marker_set_count',\n",
       " 'checkm_strain_heterogeneity',\n",
       " 'coding_bases',\n",
       " 'coding_density',\n",
       " 'contig_count',\n",
       " 'gc_count',\n",
       " 'gc_percentage',\n",
       " 'genome_size',\n",
       " 'gtdb_genome_representative',\n",
       " 'gtdb_representative',\n",
       " 'gtdb_taxonomy',\n",
       " 'gtdb_type_designation',\n",
       " 'gtdb_type_designation_sources',\n",
       " 'gtdb_type_species_of_genus',\n",
       " 'l50_contigs',\n",
       " 'l50_scaffolds',\n",
       " 'longest_contig',\n",
       " 'longest_scaffold',\n",
       " 'lsu_23s_contig_len',\n",
       " 'lsu_23s_count',\n",
       " 'lsu_23s_length',\n",
       " 'lsu_23s_query_id',\n",
       " 'lsu_5s_contig_len',\n",
       " 'lsu_5s_count',\n",
       " 'lsu_5s_length',\n",
       " 'lsu_5s_query_id',\n",
       " 'lsu_silva_23s_blast_align_len',\n",
       " 'lsu_silva_23s_blast_bitscore',\n",
       " 'lsu_silva_23s_blast_evalue',\n",
       " 'lsu_silva_23s_blast_perc_identity',\n",
       " 'lsu_silva_23s_blast_subject_id',\n",
       " 'lsu_silva_23s_taxonomy',\n",
       " 'mean_contig_length',\n",
       " 'mean_scaffold_length',\n",
       " 'mimag_high_quality',\n",
       " 'mimag_low_quality',\n",
       " 'mimag_medium_quality',\n",
       " 'n50_contigs',\n",
       " 'n50_scaffolds',\n",
       " 'ncbi_assembly_level',\n",
       " 'ncbi_assembly_name',\n",
       " 'ncbi_assembly_type',\n",
       " 'ncbi_bioproject',\n",
       " 'ncbi_biosample',\n",
       " 'ncbi_contig_count',\n",
       " 'ncbi_contig_n50',\n",
       " 'ncbi_country',\n",
       " 'ncbi_date',\n",
       " 'assembly_accession',\n",
       " 'ncbi_genome_category',\n",
       " 'ncbi_genome_representation',\n",
       " 'ncbi_isolate',\n",
       " 'ncbi_isolation_source',\n",
       " 'ncbi_lat_lon',\n",
       " 'ncbi_molecule_count',\n",
       " 'ncbi_ncrna_count',\n",
       " 'ncbi_organism_name',\n",
       " 'ncbi_protein_count',\n",
       " 'ncbi_refseq_category',\n",
       " 'ncbi_rrna_count',\n",
       " 'ncbi_scaffold_count',\n",
       " 'ncbi_scaffold_l50',\n",
       " 'ncbi_scaffold_n50',\n",
       " 'ncbi_scaffold_n75',\n",
       " 'ncbi_scaffold_n90',\n",
       " 'ncbi_seq_rel_date',\n",
       " 'ncbi_spanned_gaps',\n",
       " 'ncbi_species_taxid',\n",
       " 'ncbi_ssu_count',\n",
       " 'ncbi_strain_identifiers',\n",
       " 'ncbi_submitter',\n",
       " 'ncbi_taxid',\n",
       " 'ncbi_taxonomy',\n",
       " 'ncbi_taxonomy_unfiltered',\n",
       " 'ncbi_total_gap_length',\n",
       " 'ncbi_total_length',\n",
       " 'ncbi_translation_table',\n",
       " 'ncbi_trna_count',\n",
       " 'ncbi_type_material_designation',\n",
       " 'ncbi_ungapped_length',\n",
       " 'ncbi_unspanned_gaps',\n",
       " 'ncbi_wgs_master',\n",
       " 'protein_count',\n",
       " 'scaffold_count',\n",
       " 'ssu_contig_len',\n",
       " 'ssu_count',\n",
       " 'ssu_gg_blast_align_len',\n",
       " 'ssu_gg_blast_bitscore',\n",
       " 'ssu_gg_blast_evalue',\n",
       " 'ssu_gg_blast_perc_identity',\n",
       " 'ssu_gg_blast_subject_id',\n",
       " 'ssu_gg_taxonomy',\n",
       " 'ssu_length',\n",
       " 'ssu_query_id',\n",
       " 'ssu_silva_blast_align_len',\n",
       " 'ssu_silva_blast_bitscore',\n",
       " 'ssu_silva_blast_evalue',\n",
       " 'ssu_silva_blast_perc_identity',\n",
       " 'ssu_silva_blast_subject_id',\n",
       " 'ssu_silva_taxonomy',\n",
       " 'total_gap_length',\n",
       " 'trna_aa_count',\n",
       " 'trna_count',\n",
       " 'trna_selenocysteine_count',\n",
       " 'domain',\n",
       " 'phylum',\n",
       " 'class',\n",
       " 'order',\n",
       " 'family',\n",
       " 'genus',\n",
       " 'species',\n",
       " 'assembly_nover']"
      ]
     },
     "execution_count": 8,
     "metadata": {},
     "output_type": "execute_result"
    }
   ],
   "source": [
    "list(gtdb.columns)"
   ]
  },
  {
   "cell_type": "code",
   "execution_count": null,
   "id": "445a3b48",
   "metadata": {},
   "outputs": [],
   "source": []
  }
 ],
 "metadata": {
  "kernelspec": {
   "display_name": "Python 3 (ipykernel)",
   "language": "python",
   "name": "python3"
  },
  "language_info": {
   "codemirror_mode": {
    "name": "ipython",
    "version": 3
   },
   "file_extension": ".py",
   "mimetype": "text/x-python",
   "name": "python",
   "nbconvert_exporter": "python",
   "pygments_lexer": "ipython3",
   "version": "3.9.5"
  }
 },
 "nbformat": 4,
 "nbformat_minor": 5
}
