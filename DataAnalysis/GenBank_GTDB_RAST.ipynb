{
 "cells": [
  {
   "cell_type": "markdown",
   "id": "internal-anchor",
   "metadata": {},
   "source": [
    "## Compare the assemblies in GenBank, GTDB, and RAST\n",
    "\n",
    "Each has a different set. What are the unions and intersections?"
   ]
  },
  {
   "cell_type": "code",
   "execution_count": 3,
   "id": "acute-prospect",
   "metadata": {},
   "outputs": [],
   "source": [
    "# A lot of this is not used, but we import it so we have it later!\n",
    "import os\n",
    "import sys\n",
    "import matplotlib.pyplot as plt\n",
    "import matplotlib.ticker as mticker\n",
    "import pandas as pd\n",
    "import seaborn as sns\n",
    "import numpy as np\n",
    "\n",
    "import math\n",
    "import re\n",
    "\n",
    "from PhiSpyAnalysis import theils_u, DateConverter, file_to_accession\n",
    "\n",
    "from scipy.stats import pearsonr, f_oneway\n",
    "from sklearn.linear_model import LinearRegression\n",
    "from sklearn import decomposition\n",
    "from sklearn.ensemble import RandomForestClassifier\n",
    "\n",
    "import statsmodels.api as sm\n",
    "from statsmodels.formula.api import ols\n",
    "from statsmodels.stats.multicomp import pairwise_tukeyhsd, tukeyhsd, MultiComparison\n",
    "from statsmodels.multivariate.manova import MANOVA\n",
    "\n",
    "\n",
    "import subprocess\n",
    "import gzip\n",
    "\n",
    "\n",
    "# this is a neat trick for getting markdown in our output\n",
    "# see https://stackoverflow.com/questions/23271575/printing-bold-colored-etc-text-in-ipython-qtconsole\n",
    "# for the inspiration\n",
    "from IPython.display import Markdown, display\n",
    "def printmd(string, color=\"black\"):\n",
    "    colorstr = \"<span style='color:{}'>{}</span>\".format(color, string)\n",
    "    display(Markdown(colorstr))"
   ]
  },
  {
   "cell_type": "markdown",
   "id": "statewide-terror",
   "metadata": {},
   "source": [
    "# GTDB\n",
    "\n"
   ]
  },
  {
   "cell_type": "code",
   "execution_count": 18,
   "id": "compact-shell",
   "metadata": {},
   "outputs": [
    {
     "name": "stderr",
     "output_type": "stream",
     "text": [
      "c:\\workspace\\edwa0468\\githubs\\phispyanalysis\\venv\\lib\\site-packages\\IPython\\core\\interactiveshell.py:3165: DtypeWarning: Columns (61,65,74,82,83) have mixed types.Specify dtype option on import or set low_memory=False.\n",
      "  has_raised = await self.run_ast_nodes(code_ast.body, cell_name,\n"
     ]
    },
    {
     "data": {
      "text/plain": [
       "0         GCA_000006155.2\n",
       "1         GCA_000007385.1\n",
       "2         GCA_000008605.1\n",
       "3         GCA_000010565.1\n",
       "4         GCA_000013845.2\n",
       "               ...       \n",
       "191522    GCA_902166935.1\n",
       "191523    GCA_902166945.1\n",
       "191524    GCA_902167295.1\n",
       "191525    GCA_902167305.1\n",
       "191526    GCA_902167325.1\n",
       "Name: assembly_accession, Length: 191527, dtype: object"
      ]
     },
     "execution_count": 18,
     "metadata": {},
     "output_type": "execute_result"
    }
   ],
   "source": [
    "# GTDB\n",
    "gtdb = pd.read_csv(\"../data/bac120_metadata_r95.tsv.gz\", compression='gzip', header=0, delimiter=\"\\t\")\n",
    "gtdb = gtdb.rename(columns={'ncbi_genbank_assembly_accession': 'assembly_accession'})\n",
    "gtdb['assembly_accession']"
   ]
  },
  {
   "cell_type": "code",
   "execution_count": 19,
   "id": "textile-software",
   "metadata": {},
   "outputs": [
    {
     "name": "stderr",
     "output_type": "stream",
     "text": [
      "c:\\workspace\\edwa0468\\githubs\\phispyanalysis\\venv\\lib\\site-packages\\IPython\\core\\interactiveshell.py:3165: DtypeWarning: Columns (2,6,7,8,9,10,11,12,14,19,21,34,40,41,42,43,44,46,47,48,49,50,51,52,53,54,55,56,57,58,59,60,61,62,63,65) have mixed types.Specify dtype option on import or set low_memory=False.\n",
      "  has_raised = await self.run_ast_nodes(code_ast.body, cell_name,\n"
     ]
    },
    {
     "data": {
      "text/plain": [
       "0         GCA_003181115.1\n",
       "1         GCF_001007995.1\n",
       "2         GCF_001307505.1\n",
       "3         GCA_000196515.1\n",
       "4         GCA_002163025.1\n",
       "               ...       \n",
       "433517    GCA_000379245.1\n",
       "433518    GCA_000379345.1\n",
       "433519    GCA_000379265.1\n",
       "433520    GCA_000379205.1\n",
       "433521    GCA_000372125.1\n",
       "Name: assembly_accession, Length: 433522, dtype: object"
      ]
     },
     "execution_count": 19,
     "metadata": {},
     "output_type": "execute_result"
    }
   ],
   "source": [
    "# RAST\n",
    "# the full data set. Don't try this at home!\n",
    "# metadf = pd.read_csv(\"../small_data/patric_genome_metadata.tsv.gz\", compression='gzip', header=0, delimiter=\"\\t\")\n",
    "rast = pd.read_csv(\"../data/patric_genome_metadata.tsv.gz\", compression='gzip', header=0, delimiter=\"\\t\")\n",
    "rast['assembly_accession']"
   ]
  },
  {
   "cell_type": "markdown",
   "id": "considerable-brief",
   "metadata": {},
   "source": [
    "# GenBank\n",
    "\n",
    "This assembly summary comes from [GenBank ftp site](ftp://ftp.ncbi.nlm.nih.gov/genomes/genbank/) and you want the [assembly_summary.txt](ftp://ftp.ncbi.nlm.nih.gov/genomes/genbank/bacteria/assembly_summary.txt) file explicitly from bacteria (but don't try and open the bacteria list in your browser!)"
   ]
  },
  {
   "cell_type": "code",
   "execution_count": 20,
   "id": "curious-compatibility",
   "metadata": {},
   "outputs": [
    {
     "name": "stderr",
     "output_type": "stream",
     "text": [
      "c:\\workspace\\edwa0468\\githubs\\phispyanalysis\\venv\\lib\\site-packages\\IPython\\core\\interactiveshell.py:3165: DtypeWarning: Columns (21) have mixed types.Specify dtype option on import or set low_memory=False.\n",
      "  has_raised = await self.run_ast_nodes(code_ast.body, cell_name,\n"
     ]
    },
    {
     "data": {
      "text/plain": [
       "0         GCA_900128725.1\n",
       "1         GCA_008244535.1\n",
       "2         GCA_011046815.1\n",
       "3         GCA_011054035.1\n",
       "4         GCA_011331185.1\n",
       "               ...       \n",
       "949928    GCA_017746755.1\n",
       "949929    GCA_017746715.1\n",
       "949930    GCA_013266695.1\n",
       "949931    GCA_015831295.1\n",
       "949932    GCA_015686645.1\n",
       "Name: assembly_accession, Length: 949933, dtype: object"
      ]
     },
     "execution_count": 20,
     "metadata": {},
     "output_type": "execute_result"
    }
   ],
   "source": [
    "# GenBank\n",
    "gbk = pd.read_csv(\"../data/assembly_summary.txt.gz\", compression='gzip', header=1, delimiter=\"\\t\")\n",
    "gbk = gbk.rename(columns={'# assembly_accession': 'assembly_accession'})\n",
    "gbk['assembly_accession']"
   ]
  },
  {
   "cell_type": "code",
   "execution_count": 23,
   "id": "endless-entrance",
   "metadata": {},
   "outputs": [
    {
     "name": "stdout",
     "output_type": "stream",
     "text": [
      "Please note that this was run with git commit b783953 that has 553,082 genomes parsed and 20,946,107 total prophages\n"
     ]
    }
   ],
   "source": [
    "phagesdf = pd.read_csv(\"../data/phages_per_genome.tsv.gz\", compression='gzip', header=0, delimiter=\"\\t\")\n",
    "githash = subprocess.check_output([\"git\", \"describe\", \"--always\"]).strip().decode()\n",
    "print(f\"Please note that this was run with git commit {githash} that has {phagesdf.shape[0]:,} genomes parsed and {phagesdf['Total Predicted Prophages'].sum():,} total prophages\")"
   ]
  },
  {
   "cell_type": "code",
   "execution_count": 25,
   "id": "impressive-liver",
   "metadata": {},
   "outputs": [
    {
     "data": {
      "text/html": [
       "<div>\n",
       "<style scoped>\n",
       "    .dataframe tbody tr th:only-of-type {\n",
       "        vertical-align: middle;\n",
       "    }\n",
       "\n",
       "    .dataframe tbody tr th {\n",
       "        vertical-align: top;\n",
       "    }\n",
       "\n",
       "    .dataframe thead th {\n",
       "        text-align: right;\n",
       "    }\n",
       "</style>\n",
       "<table border=\"1\" class=\"dataframe\">\n",
       "  <thead>\n",
       "    <tr style=\"text-align: right;\">\n",
       "      <th></th>\n",
       "      <th>Contig</th>\n",
       "      <th>Genome length</th>\n",
       "      <th>Contigs</th>\n",
       "      <th>Phage Contigs</th>\n",
       "      <th>Total Predicted Prophages</th>\n",
       "      <th>Kept</th>\n",
       "      <th>No phage genes</th>\n",
       "      <th>Not enough genes</th>\n",
       "      <th>bp prophage</th>\n",
       "      <th>assembly_accession</th>\n",
       "    </tr>\n",
       "  </thead>\n",
       "  <tbody>\n",
       "    <tr>\n",
       "      <th>0</th>\n",
       "      <td>GCA_000003135.1_ASM313v1_genomic.gbff.gz</td>\n",
       "      <td>2396359</td>\n",
       "      <td>114</td>\n",
       "      <td>10</td>\n",
       "      <td>16</td>\n",
       "      <td>2</td>\n",
       "      <td>1</td>\n",
       "      <td>13</td>\n",
       "      <td>48916</td>\n",
       "      <td>GCA_000003135.1</td>\n",
       "    </tr>\n",
       "    <tr>\n",
       "      <th>1</th>\n",
       "      <td>GCA_000003645.1_ASM364v1_genomic.gbff.gz</td>\n",
       "      <td>5269725</td>\n",
       "      <td>1</td>\n",
       "      <td>1</td>\n",
       "      <td>31</td>\n",
       "      <td>1</td>\n",
       "      <td>10</td>\n",
       "      <td>20</td>\n",
       "      <td>40297</td>\n",
       "      <td>GCA_000003645.1</td>\n",
       "    </tr>\n",
       "    <tr>\n",
       "      <th>2</th>\n",
       "      <td>GCA_000003925.1_ASM392v1_genomic.gbff.gz</td>\n",
       "      <td>5561906</td>\n",
       "      <td>1</td>\n",
       "      <td>1</td>\n",
       "      <td>38</td>\n",
       "      <td>6</td>\n",
       "      <td>13</td>\n",
       "      <td>19</td>\n",
       "      <td>268081</td>\n",
       "      <td>GCA_000003925.1</td>\n",
       "    </tr>\n",
       "    <tr>\n",
       "      <th>3</th>\n",
       "      <td>GCA_000003955.1_ASM395v1_genomic.gbff.gz</td>\n",
       "      <td>5790501</td>\n",
       "      <td>1</td>\n",
       "      <td>1</td>\n",
       "      <td>46</td>\n",
       "      <td>6</td>\n",
       "      <td>11</td>\n",
       "      <td>29</td>\n",
       "      <td>166286</td>\n",
       "      <td>GCA_000003955.1</td>\n",
       "    </tr>\n",
       "    <tr>\n",
       "      <th>4</th>\n",
       "      <td>GCA_000005825.2_ASM582v2_genomic.gbff.gz</td>\n",
       "      <td>4249248</td>\n",
       "      <td>3</td>\n",
       "      <td>3</td>\n",
       "      <td>33</td>\n",
       "      <td>3</td>\n",
       "      <td>9</td>\n",
       "      <td>21</td>\n",
       "      <td>93416</td>\n",
       "      <td>GCA_000005825.2</td>\n",
       "    </tr>\n",
       "    <tr>\n",
       "      <th>...</th>\n",
       "      <td>...</td>\n",
       "      <td>...</td>\n",
       "      <td>...</td>\n",
       "      <td>...</td>\n",
       "      <td>...</td>\n",
       "      <td>...</td>\n",
       "      <td>...</td>\n",
       "      <td>...</td>\n",
       "      <td>...</td>\n",
       "      <td>...</td>\n",
       "    </tr>\n",
       "    <tr>\n",
       "      <th>553077</th>\n",
       "      <td>GCA_902860175.1_LMG_5997_genomic.gbff.gz</td>\n",
       "      <td>7197255</td>\n",
       "      <td>38</td>\n",
       "      <td>21</td>\n",
       "      <td>33</td>\n",
       "      <td>2</td>\n",
       "      <td>14</td>\n",
       "      <td>17</td>\n",
       "      <td>69051</td>\n",
       "      <td>GCA_902860175.1</td>\n",
       "    </tr>\n",
       "    <tr>\n",
       "      <th>553078</th>\n",
       "      <td>GCA_902860185.1_LMG_6103_genomic.gbff.gz</td>\n",
       "      <td>6497464</td>\n",
       "      <td>13</td>\n",
       "      <td>8</td>\n",
       "      <td>22</td>\n",
       "      <td>0</td>\n",
       "      <td>10</td>\n",
       "      <td>12</td>\n",
       "      <td>0</td>\n",
       "      <td>GCA_902860185.1</td>\n",
       "    </tr>\n",
       "    <tr>\n",
       "      <th>553079</th>\n",
       "      <td>GCA_902860195.1_LMG_7053_genomic.gbff.gz</td>\n",
       "      <td>6702936</td>\n",
       "      <td>200</td>\n",
       "      <td>148</td>\n",
       "      <td>33</td>\n",
       "      <td>1</td>\n",
       "      <td>11</td>\n",
       "      <td>21</td>\n",
       "      <td>12819</td>\n",
       "      <td>GCA_902860195.1</td>\n",
       "    </tr>\n",
       "    <tr>\n",
       "      <th>553080</th>\n",
       "      <td>GCA_902860205.1_LMG_6001_genomic.gbff.gz</td>\n",
       "      <td>6320373</td>\n",
       "      <td>36</td>\n",
       "      <td>19</td>\n",
       "      <td>35</td>\n",
       "      <td>2</td>\n",
       "      <td>21</td>\n",
       "      <td>12</td>\n",
       "      <td>41572</td>\n",
       "      <td>GCA_902860205.1</td>\n",
       "    </tr>\n",
       "    <tr>\n",
       "      <th>553081</th>\n",
       "      <td>GCA_902860235.1_LMG_9964_genomic.gbff.gz</td>\n",
       "      <td>7602199</td>\n",
       "      <td>42</td>\n",
       "      <td>26</td>\n",
       "      <td>37</td>\n",
       "      <td>2</td>\n",
       "      <td>20</td>\n",
       "      <td>15</td>\n",
       "      <td>71710</td>\n",
       "      <td>GCA_902860235.1</td>\n",
       "    </tr>\n",
       "  </tbody>\n",
       "</table>\n",
       "<p>553082 rows × 10 columns</p>\n",
       "</div>"
      ],
      "text/plain": [
       "                                          Contig  Genome length  Contigs  \\\n",
       "0       GCA_000003135.1_ASM313v1_genomic.gbff.gz        2396359      114   \n",
       "1       GCA_000003645.1_ASM364v1_genomic.gbff.gz        5269725        1   \n",
       "2       GCA_000003925.1_ASM392v1_genomic.gbff.gz        5561906        1   \n",
       "3       GCA_000003955.1_ASM395v1_genomic.gbff.gz        5790501        1   \n",
       "4       GCA_000005825.2_ASM582v2_genomic.gbff.gz        4249248        3   \n",
       "...                                          ...            ...      ...   \n",
       "553077  GCA_902860175.1_LMG_5997_genomic.gbff.gz        7197255       38   \n",
       "553078  GCA_902860185.1_LMG_6103_genomic.gbff.gz        6497464       13   \n",
       "553079  GCA_902860195.1_LMG_7053_genomic.gbff.gz        6702936      200   \n",
       "553080  GCA_902860205.1_LMG_6001_genomic.gbff.gz        6320373       36   \n",
       "553081  GCA_902860235.1_LMG_9964_genomic.gbff.gz        7602199       42   \n",
       "\n",
       "        Phage Contigs  Total Predicted Prophages  Kept  No phage genes  \\\n",
       "0                  10                         16     2               1   \n",
       "1                   1                         31     1              10   \n",
       "2                   1                         38     6              13   \n",
       "3                   1                         46     6              11   \n",
       "4                   3                         33     3               9   \n",
       "...               ...                        ...   ...             ...   \n",
       "553077             21                         33     2              14   \n",
       "553078              8                         22     0              10   \n",
       "553079            148                         33     1              11   \n",
       "553080             19                         35     2              21   \n",
       "553081             26                         37     2              20   \n",
       "\n",
       "        Not enough genes  bp prophage assembly_accession  \n",
       "0                     13        48916    GCA_000003135.1  \n",
       "1                     20        40297    GCA_000003645.1  \n",
       "2                     19       268081    GCA_000003925.1  \n",
       "3                     29       166286    GCA_000003955.1  \n",
       "4                     21        93416    GCA_000005825.2  \n",
       "...                  ...          ...                ...  \n",
       "553077                17        69051    GCA_902860175.1  \n",
       "553078                12            0    GCA_902860185.1  \n",
       "553079                21        12819    GCA_902860195.1  \n",
       "553080                12        41572    GCA_902860205.1  \n",
       "553081                15        71710    GCA_902860235.1  \n",
       "\n",
       "[553082 rows x 10 columns]"
      ]
     },
     "execution_count": 25,
     "metadata": {},
     "output_type": "execute_result"
    }
   ],
   "source": [
    "phagesdf['assembly_accession'] = phagesdf['Contig'].apply(file_to_accession)\n",
    "phagesdf"
   ]
  },
  {
   "cell_type": "markdown",
   "id": "medieval-canyon",
   "metadata": {},
   "source": [
    "# What is in common between the groups?"
   ]
  },
  {
   "cell_type": "code",
   "execution_count": 41,
   "id": "changing-president",
   "metadata": {},
   "outputs": [
    {
     "name": "stdout",
     "output_type": "stream",
     "text": [
      "Between GBK and RAST there are 244,870 genomes in common\n",
      "Between GBK and GTDB there are 189,704 genomes in common\n",
      "Between GTDB and RAST there are 140,463 genomes in common\n",
      "\n",
      "There are 353,548 phages in Genbank that have not been analyzed\n",
      "There are 65,392 phages in GTDB that have not been analyzed\n",
      "There are 200,803 phages in Genbank that have not been analyzed\n",
      "\n",
      "There are 52,219 phages in all three that have not been analyzed\n"
     ]
    }
   ],
   "source": [
    "gbkaa=set(gbk['assembly_accession'])\n",
    "rastaa=set(rast['assembly_accession'])\n",
    "gtdbaa=set(gtdb['assembly_accession'])\n",
    "phagesaa=set(phagesdf['assembly_accession'])\n",
    "\n",
    "\n",
    "gbr = gbkaa.intersection(rastaa)\n",
    "gbg = gbkaa.intersection(gtdbaa)\n",
    "gtr = gtdbaa.intersection(rastaa)\n",
    "\n",
    "print(f\"Between GBK and RAST there are {len(gbr):,} genomes in common\")\n",
    "print(f\"Between GBK and GTDB there are {len(gbg):,} genomes in common\")\n",
    "print(f\"Between GTDB and RAST there are {len(gtr):,} genomes in common\")\n",
    "print()\n",
    "\n",
    "gbnotdone = gbkaa - phagesaa\n",
    "gtnotdone = gtdbaa - phagesaa\n",
    "ranotdone = rastaa - phagesaa\n",
    "print(f\"There are {len(gbnotdone):,} phages in Genbank that have not been analyzed\")\n",
    "print(f\"There are {len(gtnotdone):,} phages in GTDB that have not been analyzed\")\n",
    "print(f\"There are {len(ranotdone):,} phages in Genbank that have not been analyzed\")\n",
    "print()\n",
    "\n",
    "allmissing = gbnotdone.intersection(gtnotdone).intersection(ranotdone)\n",
    "print(f\"There are {len(allmissing):,} phages in all three that have not been analyzed\")\n",
    "with open(\"../data/unprocessed_phages.txt\", 'w') as out:\n",
    "    for o in allmissing:\n",
    "        gbk[gbk['assembly_accession'] == 'GCA_002129805.1'][['assembly_accession', 'ftp_path']].to_csv(out, sep=\"\\t\", header=False, index=False)"
   ]
  },
  {
   "cell_type": "code",
   "execution_count": null,
   "id": "surrounded-fireplace",
   "metadata": {},
   "outputs": [],
   "source": []
  }
 ],
 "metadata": {
  "kernelspec": {
   "display_name": "Python 3",
   "language": "python",
   "name": "python3"
  },
  "language_info": {
   "codemirror_mode": {
    "name": "ipython",
    "version": 3
   },
   "file_extension": ".py",
   "mimetype": "text/x-python",
   "name": "python",
   "nbconvert_exporter": "python",
   "pygments_lexer": "ipython3",
   "version": "3.8.8"
  }
 },
 "nbformat": 4,
 "nbformat_minor": 5
}
